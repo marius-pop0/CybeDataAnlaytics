{
 "cells": [
  {
   "cell_type": "code",
   "execution_count": 2,
   "metadata": {},
   "outputs": [],
   "source": [
    "import pandas as pd\n",
    "import matplotlib.pyplot as plt\n",
    "import seaborn as sns\n",
    "import random\n",
    "import numpy as np\n",
    "import queue\n",
    "%matplotlib inline"
   ]
  },
  {
   "cell_type": "code",
   "execution_count": 3,
   "metadata": {},
   "outputs": [
    {
     "data": {
      "text/html": [
       "<div>\n",
       "<style scoped>\n",
       "    .dataframe tbody tr th:only-of-type {\n",
       "        vertical-align: middle;\n",
       "    }\n",
       "\n",
       "    .dataframe tbody tr th {\n",
       "        vertical-align: top;\n",
       "    }\n",
       "\n",
       "    .dataframe thead th {\n",
       "        text-align: right;\n",
       "    }\n",
       "</style>\n",
       "<table border=\"1\" class=\"dataframe\">\n",
       "  <thead>\n",
       "    <tr style=\"text-align: right;\">\n",
       "      <th></th>\n",
       "      <th>Date</th>\n",
       "      <th>Flow_start</th>\n",
       "      <th>Durat</th>\n",
       "      <th>Prot</th>\n",
       "      <th>SrcIPAddr:Port</th>\n",
       "      <th>tmp</th>\n",
       "      <th>DstIPAddr:Port</th>\n",
       "      <th>Flags</th>\n",
       "      <th>Tos</th>\n",
       "      <th>Packets</th>\n",
       "      <th>Bytes</th>\n",
       "      <th>Flows</th>\n",
       "      <th>Label</th>\n",
       "      <th>Labels</th>\n",
       "      <th>SrcIPAddr</th>\n",
       "      <th>SrcIPPort</th>\n",
       "      <th>DstIPAddr</th>\n",
       "      <th>DstIPPort</th>\n",
       "    </tr>\n",
       "  </thead>\n",
       "  <tbody>\n",
       "    <tr>\n",
       "      <th>0</th>\n",
       "      <td>2011-08-18</td>\n",
       "      <td>10:19:13.328</td>\n",
       "      <td>0.002</td>\n",
       "      <td>TCP</td>\n",
       "      <td>147.32.86.166:33426</td>\n",
       "      <td>-&gt;</td>\n",
       "      <td>212.24.150.110:25443</td>\n",
       "      <td>FRPA_</td>\n",
       "      <td>0</td>\n",
       "      <td>4</td>\n",
       "      <td>321</td>\n",
       "      <td>1</td>\n",
       "      <td>Background</td>\n",
       "      <td>NaN</td>\n",
       "      <td>147.32.86.166</td>\n",
       "      <td>33426</td>\n",
       "      <td>212.24.150.110</td>\n",
       "      <td>25443</td>\n",
       "    </tr>\n",
       "    <tr>\n",
       "      <th>1</th>\n",
       "      <td>2011-08-18</td>\n",
       "      <td>10:19:13.328</td>\n",
       "      <td>4.995</td>\n",
       "      <td>UDP</td>\n",
       "      <td>82.39.2.249:41915</td>\n",
       "      <td>-&gt;</td>\n",
       "      <td>147.32.84.59:43087</td>\n",
       "      <td>INT</td>\n",
       "      <td>0</td>\n",
       "      <td>617</td>\n",
       "      <td>40095</td>\n",
       "      <td>1</td>\n",
       "      <td>Background</td>\n",
       "      <td>NaN</td>\n",
       "      <td>82.39.2.249</td>\n",
       "      <td>41915</td>\n",
       "      <td>147.32.84.59</td>\n",
       "      <td>43087</td>\n",
       "    </tr>\n",
       "    <tr>\n",
       "      <th>2</th>\n",
       "      <td>2011-08-18</td>\n",
       "      <td>10:19:13.329</td>\n",
       "      <td>4.996</td>\n",
       "      <td>UDP</td>\n",
       "      <td>147.32.84.59:43087</td>\n",
       "      <td>-&gt;</td>\n",
       "      <td>82.39.2.249:41915</td>\n",
       "      <td>INT</td>\n",
       "      <td>0</td>\n",
       "      <td>1290</td>\n",
       "      <td>1909200</td>\n",
       "      <td>1</td>\n",
       "      <td>Background</td>\n",
       "      <td>NaN</td>\n",
       "      <td>147.32.84.59</td>\n",
       "      <td>43087</td>\n",
       "      <td>82.39.2.249</td>\n",
       "      <td>41915</td>\n",
       "    </tr>\n",
       "    <tr>\n",
       "      <th>3</th>\n",
       "      <td>2011-08-18</td>\n",
       "      <td>10:19:13.330</td>\n",
       "      <td>0.000</td>\n",
       "      <td>TCP</td>\n",
       "      <td>147.32.86.166:42020</td>\n",
       "      <td>-&gt;</td>\n",
       "      <td>147.32.192.34:993</td>\n",
       "      <td>A_</td>\n",
       "      <td>0</td>\n",
       "      <td>1</td>\n",
       "      <td>66</td>\n",
       "      <td>1</td>\n",
       "      <td>Background</td>\n",
       "      <td>NaN</td>\n",
       "      <td>147.32.86.166</td>\n",
       "      <td>42020</td>\n",
       "      <td>147.32.192.34</td>\n",
       "      <td>993</td>\n",
       "    </tr>\n",
       "    <tr>\n",
       "      <th>4</th>\n",
       "      <td>2011-08-18</td>\n",
       "      <td>10:19:13.330</td>\n",
       "      <td>0.000</td>\n",
       "      <td>TCP</td>\n",
       "      <td>212.24.150.110:25443</td>\n",
       "      <td>-&gt;</td>\n",
       "      <td>147.32.86.166:33426</td>\n",
       "      <td>FPA_</td>\n",
       "      <td>0</td>\n",
       "      <td>2</td>\n",
       "      <td>169</td>\n",
       "      <td>1</td>\n",
       "      <td>Background</td>\n",
       "      <td>NaN</td>\n",
       "      <td>212.24.150.110</td>\n",
       "      <td>25443</td>\n",
       "      <td>147.32.86.166</td>\n",
       "      <td>33426</td>\n",
       "    </tr>\n",
       "  </tbody>\n",
       "</table>\n",
       "</div>"
      ],
      "text/plain": [
       "         Date    Flow_start  Durat Prot        SrcIPAddr:Port tmp  \\\n",
       "0  2011-08-18  10:19:13.328  0.002  TCP   147.32.86.166:33426  ->   \n",
       "1  2011-08-18  10:19:13.328  4.995  UDP     82.39.2.249:41915  ->   \n",
       "2  2011-08-18  10:19:13.329  4.996  UDP    147.32.84.59:43087  ->   \n",
       "3  2011-08-18  10:19:13.330  0.000  TCP   147.32.86.166:42020  ->   \n",
       "4  2011-08-18  10:19:13.330  0.000  TCP  212.24.150.110:25443  ->   \n",
       "\n",
       "         DstIPAddr:Port  Flags  Tos  Packets    Bytes  Flows       Label  \\\n",
       "0  212.24.150.110:25443  FRPA_    0        4      321      1  Background   \n",
       "1    147.32.84.59:43087    INT    0      617    40095      1  Background   \n",
       "2     82.39.2.249:41915    INT    0     1290  1909200      1  Background   \n",
       "3     147.32.192.34:993     A_    0        1       66      1  Background   \n",
       "4   147.32.86.166:33426   FPA_    0        2      169      1  Background   \n",
       "\n",
       "   Labels       SrcIPAddr SrcIPPort       DstIPAddr DstIPPort  \n",
       "0     NaN   147.32.86.166     33426  212.24.150.110     25443  \n",
       "1     NaN     82.39.2.249     41915    147.32.84.59     43087  \n",
       "2     NaN    147.32.84.59     43087     82.39.2.249     41915  \n",
       "3     NaN   147.32.86.166     42020   147.32.192.34       993  \n",
       "4     NaN  212.24.150.110     25443   147.32.86.166     33426  "
      ]
     },
     "execution_count": 3,
     "metadata": {},
     "output_type": "execute_result"
    }
   ],
   "source": [
    "tp = pd.read_csv('capture20110818.pcap.netflow.labeled.csv', chunksize=1000)\n",
    "df = pd.concat(tp, ignore_index=True)\n",
    "\n",
    "# preprocessing\n",
    "ips = df['SrcIPAddr:Port'].str.split(':')\n",
    "df['SrcIPAddr'] = ips.str[0]\n",
    "df['SrcIPPort'] = ips.str[-1]\n",
    "ips = df['DstIPAddr:Port'].str.split(':')\n",
    "df['DstIPAddr'] = ips.str[0]\n",
    "df['DstIPPort'] = ips.str[-1]\n",
    "\n",
    "# # df.dtypes\n",
    "# ips = df['SrcIPAddr:Port'].str.split(':')\n",
    "# print(ips)\n",
    "\n",
    "# # print(pd.sort(ips[0:-1]))\n",
    "# df['SrcIPAddr'] = (ips.str[0:-1])\n",
    "# df['SrcIPPort'] = ips.str[-1]\n",
    "# ips = df['DstIPAddr:Port'].str.split(':')\n",
    "# df['DstIPAddr'] = ':'.join(ips[0:-1])\n",
    "# df['DstIPPort'] = ips.str[-1]\n",
    "df.head()"
   ]
  },
  {
   "cell_type": "code",
   "execution_count": 142,
   "metadata": {},
   "outputs": [],
   "source": [
    "def normalize(values):\n",
    "    summed = sum([pair[1] for pair in values], 1)\n",
    "    values = [(pair[0], pair[1]/summed) for pair in values]\n",
    "\n",
    "    return values\n",
    "\n",
    "def histogram(values):\n",
    "    pos = np.arange(len(values))\n",
    "    width = 0.8     # gives histogram aspect to the bar diagram\n",
    "\n",
    "    ax = plt.axes()\n",
    "    ax.set_xticks(pos + (width / 8))\n",
    "    ax.set_xticklabels([pair[0] for pair in values])\n",
    "\n",
    "    plt.bar(pos, [pair[1] for pair in values], width, color='r',  edgecolor = 'black')\n",
    "    plt.xlabel('IP id')\n",
    "    plt.ylabel('frequency')#normilized?\n",
    "    plt.show()"
   ]
  },
  {
   "cell_type": "code",
   "execution_count": 128,
   "metadata": {},
   "outputs": [
    {
     "name": "stderr",
     "output_type": "stream",
     "text": [
      "C:\\Users\\Anna\\AppData\\Local\\Programs\\Python\\Python36-32\\lib\\site-packages\\ipykernel_launcher.py:2: FutureWarning: using a dict on a Series for aggregation\n",
      "is deprecated and will be removed in a future version\n",
      "  \n"
     ]
    },
    {
     "data": {
      "text/html": [
       "<div>\n",
       "<style scoped>\n",
       "    .dataframe tbody tr th:only-of-type {\n",
       "        vertical-align: middle;\n",
       "    }\n",
       "\n",
       "    .dataframe tbody tr th {\n",
       "        vertical-align: top;\n",
       "    }\n",
       "\n",
       "    .dataframe thead th {\n",
       "        text-align: right;\n",
       "    }\n",
       "</style>\n",
       "<table border=\"1\" class=\"dataframe\">\n",
       "  <thead>\n",
       "    <tr style=\"text-align: right;\">\n",
       "      <th></th>\n",
       "      <th>Frequency</th>\n",
       "    </tr>\n",
       "    <tr>\n",
       "      <th>SrcIPAddr</th>\n",
       "      <th></th>\n",
       "    </tr>\n",
       "  </thead>\n",
       "  <tbody>\n",
       "    <tr>\n",
       "      <th>147.32.80.9</th>\n",
       "      <td>109284</td>\n",
       "    </tr>\n",
       "    <tr>\n",
       "      <th>147.32.84.59</th>\n",
       "      <td>101036</td>\n",
       "    </tr>\n",
       "    <tr>\n",
       "      <th>147.32.84.138</th>\n",
       "      <td>49379</td>\n",
       "    </tr>\n",
       "    <tr>\n",
       "      <th>147.32.84.118</th>\n",
       "      <td>12724</td>\n",
       "    </tr>\n",
       "    <tr>\n",
       "      <th>147.32.85.25</th>\n",
       "      <td>10381</td>\n",
       "    </tr>\n",
       "    <tr>\n",
       "      <th>147.32.80.13</th>\n",
       "      <td>9064</td>\n",
       "    </tr>\n",
       "    <tr>\n",
       "      <th>147.32.84.95</th>\n",
       "      <td>8592</td>\n",
       "    </tr>\n",
       "    <tr>\n",
       "      <th>147.32.86.20</th>\n",
       "      <td>8236</td>\n",
       "    </tr>\n",
       "    <tr>\n",
       "      <th>147.32.85.26</th>\n",
       "      <td>7416</td>\n",
       "    </tr>\n",
       "    <tr>\n",
       "      <th>147.32.86.165</th>\n",
       "      <td>6438</td>\n",
       "    </tr>\n",
       "  </tbody>\n",
       "</table>\n",
       "</div>"
      ],
      "text/plain": [
       "               Frequency\n",
       "SrcIPAddr               \n",
       "147.32.80.9       109284\n",
       "147.32.84.59      101036\n",
       "147.32.84.138      49379\n",
       "147.32.84.118      12724\n",
       "147.32.85.25       10381\n",
       "147.32.80.13        9064\n",
       "147.32.84.95        8592\n",
       "147.32.86.20        8236\n",
       "147.32.85.26        7416\n",
       "147.32.86.165       6438"
      ]
     },
     "execution_count": 128,
     "metadata": {},
     "output_type": "execute_result"
    }
   ],
   "source": [
    "#calculate frequency\n",
    "most_freq = df.groupby(['SrcIPAddr'])['SrcIPAddr'].agg({'Frequency':'count'}).sort_values(['Frequency'], ascending=False).head(10)\n",
    "\n",
    "most_freq"
   ]
  },
  {
   "cell_type": "markdown",
   "metadata": {},
   "source": [
    "W can see that most frequent IP adress has by far more records, making us certain him being a a host. Therefore we remove him from the dataset."
   ]
  },
  {
   "cell_type": "code",
   "execution_count": 129,
   "metadata": {},
   "outputs": [
    {
     "name": "stderr",
     "output_type": "stream",
     "text": [
      "C:\\Users\\Anna\\AppData\\Local\\Programs\\Python\\Python36-32\\lib\\site-packages\\ipykernel_launcher.py:2: FutureWarning: using a dict on a Series for aggregation\n",
      "is deprecated and will be removed in a future version\n",
      "  \n"
     ]
    },
    {
     "data": {
      "text/html": [
       "<div>\n",
       "<style scoped>\n",
       "    .dataframe tbody tr th:only-of-type {\n",
       "        vertical-align: middle;\n",
       "    }\n",
       "\n",
       "    .dataframe tbody tr th {\n",
       "        vertical-align: top;\n",
       "    }\n",
       "\n",
       "    .dataframe thead th {\n",
       "        text-align: right;\n",
       "    }\n",
       "</style>\n",
       "<table border=\"1\" class=\"dataframe\">\n",
       "  <thead>\n",
       "    <tr style=\"text-align: right;\">\n",
       "      <th></th>\n",
       "      <th>Frequency</th>\n",
       "    </tr>\n",
       "    <tr>\n",
       "      <th>SrcIPAddr</th>\n",
       "      <th></th>\n",
       "    </tr>\n",
       "  </thead>\n",
       "  <tbody>\n",
       "    <tr>\n",
       "      <th>147.32.80.9</th>\n",
       "      <td>109284</td>\n",
       "    </tr>\n",
       "    <tr>\n",
       "      <th>147.32.84.59</th>\n",
       "      <td>101036</td>\n",
       "    </tr>\n",
       "    <tr>\n",
       "      <th>147.32.84.138</th>\n",
       "      <td>49379</td>\n",
       "    </tr>\n",
       "    <tr>\n",
       "      <th>147.32.84.118</th>\n",
       "      <td>12724</td>\n",
       "    </tr>\n",
       "    <tr>\n",
       "      <th>147.32.85.25</th>\n",
       "      <td>10381</td>\n",
       "    </tr>\n",
       "    <tr>\n",
       "      <th>147.32.80.13</th>\n",
       "      <td>9064</td>\n",
       "    </tr>\n",
       "    <tr>\n",
       "      <th>147.32.84.95</th>\n",
       "      <td>8592</td>\n",
       "    </tr>\n",
       "    <tr>\n",
       "      <th>147.32.86.20</th>\n",
       "      <td>8236</td>\n",
       "    </tr>\n",
       "    <tr>\n",
       "      <th>147.32.85.26</th>\n",
       "      <td>7416</td>\n",
       "    </tr>\n",
       "    <tr>\n",
       "      <th>147.32.86.165</th>\n",
       "      <td>6438</td>\n",
       "    </tr>\n",
       "  </tbody>\n",
       "</table>\n",
       "</div>"
      ],
      "text/plain": [
       "               Frequency\n",
       "SrcIPAddr               \n",
       "147.32.80.9       109284\n",
       "147.32.84.59      101036\n",
       "147.32.84.138      49379\n",
       "147.32.84.118      12724\n",
       "147.32.85.25       10381\n",
       "147.32.80.13        9064\n",
       "147.32.84.95        8592\n",
       "147.32.86.20        8236\n",
       "147.32.85.26        7416\n",
       "147.32.86.165       6438"
      ]
     },
     "execution_count": 129,
     "metadata": {},
     "output_type": "execute_result"
    }
   ],
   "source": [
    "df = df[df['SrcIPAddr'] != '147.32.84.229']\n",
    "most_freq = df.groupby(['SrcIPAddr'])['SrcIPAddr'].agg({'Frequency':'count'}).sort_values(['Frequency'], ascending=False).head(10)\n",
    "\n",
    "most_freq"
   ]
  },
  {
   "cell_type": "code",
   "execution_count": 130,
   "metadata": {},
   "outputs": [
    {
     "name": "stdout",
     "output_type": "stream",
     "text": [
      "[('147.32.80.9', 109284), ('147.32.84.59', 101036), ('147.32.84.138', 49379), ('147.32.84.118', 12724), ('147.32.85.25', 10381), ('147.32.80.13', 9064), ('147.32.84.95', 8592), ('147.32.86.20', 8236), ('147.32.85.26', 7416), ('147.32.86.165', 6438)]\n"
     ]
    },
    {
     "data": {
      "image/png": "[encoded data removed]",
      "text/plain": [
       "<Figure size 432x288 with 1 Axes>"
      ]
     },
     "metadata": {},
     "output_type": "display_data"
    }
   ],
   "source": [
    "most_freq_ips = list(zip(most_freq.index, np.reshape(most_freq.values, -1)))\n",
    "print(most_freq_ips)\n",
    "histogram(most_freq_ips)"
   ]
  },
  {
   "cell_type": "code",
   "execution_count": 48,
   "metadata": {},
   "outputs": [
    {
     "name": "stderr",
     "output_type": "stream",
     "text": [
      "C:\\Users\\Anna\\AppData\\Local\\Programs\\Python\\Python36-32\\lib\\site-packages\\ipykernel_launcher.py:7: FutureWarning: using a dict on a Series for aggregation\n",
      "is deprecated and will be removed in a future version\n",
      "  import sys\n"
     ]
    },
    {
     "data": {
      "text/html": [
       "<div>\n",
       "<style scoped>\n",
       "    .dataframe tbody tr th:only-of-type {\n",
       "        vertical-align: middle;\n",
       "    }\n",
       "\n",
       "    .dataframe tbody tr th {\n",
       "        vertical-align: top;\n",
       "    }\n",
       "\n",
       "    .dataframe thead th {\n",
       "        text-align: right;\n",
       "    }\n",
       "</style>\n",
       "<table border=\"1\" class=\"dataframe\">\n",
       "  <thead>\n",
       "    <tr style=\"text-align: right;\">\n",
       "      <th></th>\n",
       "      <th>Frequency</th>\n",
       "    </tr>\n",
       "    <tr>\n",
       "      <th>SrcIPAddr</th>\n",
       "      <th></th>\n",
       "    </tr>\n",
       "  </thead>\n",
       "  <tbody>\n",
       "    <tr>\n",
       "      <th>147.32.84.59</th>\n",
       "      <td>37</td>\n",
       "    </tr>\n",
       "    <tr>\n",
       "      <th>147.32.80.9</th>\n",
       "      <td>35</td>\n",
       "    </tr>\n",
       "    <tr>\n",
       "      <th>147.32.84.138</th>\n",
       "      <td>18</td>\n",
       "    </tr>\n",
       "    <tr>\n",
       "      <th>147.32.80.13</th>\n",
       "      <td>6</td>\n",
       "    </tr>\n",
       "    <tr>\n",
       "      <th>147.32.84.118</th>\n",
       "      <td>6</td>\n",
       "    </tr>\n",
       "    <tr>\n",
       "      <th>147.32.86.187</th>\n",
       "      <td>4</td>\n",
       "    </tr>\n",
       "    <tr>\n",
       "      <th>147.32.84.111</th>\n",
       "      <td>4</td>\n",
       "    </tr>\n",
       "    <tr>\n",
       "      <th>147.32.84.95</th>\n",
       "      <td>4</td>\n",
       "    </tr>\n",
       "    <tr>\n",
       "      <th>147.32.86.20</th>\n",
       "      <td>4</td>\n",
       "    </tr>\n",
       "    <tr>\n",
       "      <th>147.32.84.68</th>\n",
       "      <td>3</td>\n",
       "    </tr>\n",
       "  </tbody>\n",
       "</table>\n",
       "</div>"
      ],
      "text/plain": [
       "               Frequency\n",
       "SrcIPAddr               \n",
       "147.32.84.59          37\n",
       "147.32.80.9           35\n",
       "147.32.84.138         18\n",
       "147.32.80.13           6\n",
       "147.32.84.118          6\n",
       "147.32.86.187          4\n",
       "147.32.84.111          4\n",
       "147.32.84.95           4\n",
       "147.32.86.20           4\n",
       "147.32.84.68           3"
      ]
     },
     "execution_count": 48,
     "metadata": {},
     "output_type": "execute_result"
    }
   ],
   "source": [
    "## A way with storing intermediate results -- THIS IS FOR OUR OWN UNDERSTANING OF SAMPLING\n",
    "#assign random value from a uniform distribution [0,1)\n",
    "df['rnd'] = np.random.rand(len(df))\n",
    "#take 300 most lowest ones\n",
    "df_rnd = df.sort_values(['rnd']).head(300)\n",
    "#calculate frequency\n",
    "df_rnd.groupby(['SrcIPAddr'])['SrcIPAddr'].agg({'Frequency':'count'}).sort_values(['Frequency'], ascending=False).head(10)"
   ]
  },
  {
   "cell_type": "code",
   "execution_count": 188,
   "metadata": {},
   "outputs": [],
   "source": [
    "## RESERVOIR algorithm\n",
    "\n",
    "reservoir = queue.PriorityQueue(maxsize=1000)\n",
    "for index, row in df.iterrows():\n",
    "    r = np.random.rand(1)\n",
    "    if(reservoir.full()):\n",
    "#         print(\"reservoir is full\")\n",
    "        ips = reservoir.get()\n",
    "        if (ips[0]<r):\n",
    "            reservoir.put((r,row['SrcIPAddr']))\n",
    "#             print(\"added\")\n",
    "        else:\n",
    "            reservoir.put((ips[0],ips[1]))\n",
    "#             print(\"not added\")\n",
    "    else:\n",
    "        reservoir.put((r,row['SrcIPAddr']))\n",
    "#         print(\"added\")\n",
    "\n",
    "ips = {}\n",
    "while not reservoir.empty():\n",
    "    ip = reservoir.get()[1]\n",
    "    if(ip not in ips):\n",
    "        ips[ip] = 0\n",
    "    ips[ip] += 1\n",
    "    "
   ]
  },
  {
   "cell_type": "code",
   "execution_count": 189,
   "metadata": {},
   "outputs": [
    {
     "data": {
      "text/plain": [
       "[('147.32.80.9', 124),\n",
       " ('147.32.84.59', 106),\n",
       " ('147.32.84.138', 56),\n",
       " ('147.32.84.118', 15),\n",
       " ('147.32.86.223', 14),\n",
       " ('147.32.85.25', 14),\n",
       " ('147.32.85.26', 11),\n",
       " ('147.32.80.13', 10),\n",
       " ('147.32.84.68', 10),\n",
       " ('147.32.84.95', 9)]"
      ]
     },
     "execution_count": 189,
     "metadata": {},
     "output_type": "execute_result"
    }
   ],
   "source": [
    "import operator\n",
    "sorted_ips = sorted(ips.items(), key=operator.itemgetter(1),reverse=True)\n",
    "\n",
    "most_freq_res = sorted_ips[:10]\n",
    "most_freq_res"
   ]
  },
  {
   "cell_type": "code",
   "execution_count": 190,
   "metadata": {},
   "outputs": [
    {
     "data": {
      "image/png": "[encoded data removed]",
      "text/plain": [
       "<Figure size 432x288 with 1 Axes>"
      ]
     },
     "metadata": {},
     "output_type": "display_data"
    }
   ],
   "source": [
    "histogram(most_freq_res)"
   ]
  },
  {
   "cell_type": "code",
   "execution_count": 191,
   "metadata": {},
   "outputs": [],
   "source": [
    "def calc_error(truth, estimated):\n",
    "    #generate ids for IPs\n",
    "    ips = [pair[0] for pair in truth]\n",
    "    e_ips = [pair[0] for pair in estimated]\n",
    "    val_id = len(truth)\n",
    "    truth_ids = []\n",
    "    estimated_ids = []\n",
    "    for i in range(len(truth)):\n",
    "        truth_ids.append((i, truth[i][1]))\n",
    "        if truth[i][0] not in e_ips:\n",
    "            estimated_ids.append((i, 0))\n",
    "        if estimated[i][0] in ips:\n",
    "            estimated_ids.append((ips.index(truth[i][0]), estimated[i][1]))\n",
    "        else:\n",
    "            estimated_ids.append((val_id, estimated[i][1]))\n",
    "            truth_ids.append((val_id, 0))\n",
    "            val_id+=1\n",
    "    truth_ids.sort(key=lambda tup: tup[0])\n",
    "    estimated_ids.sort(key=lambda tup: tup[0])\n",
    "    histogram(truth_ids)\n",
    "    histogram(estimated_ids)\n",
    "    \n",
    "    ##normalize the dataset\n",
    "    truth_ids = normalize(truth_ids)\n",
    "    estimated_ids = normalize(estimated_ids)\n",
    "        \n",
    "    intersect_area = 0\n",
    "    for i in range(len(truth_ids)):\n",
    "        intersect_area += min(truth_ids[i][1], estimated_ids[i][1]) \n",
    "    print('Itersection area: ', intersect_area)\n",
    "\n",
    "    "
   ]
  },
  {
   "cell_type": "code",
   "execution_count": 192,
   "metadata": {},
   "outputs": [
    {
     "data": {
      "image/png": "[encoded data removed]",
      "text/plain": [
       "<Figure size 432x288 with 1 Axes>"
      ]
     },
     "metadata": {},
     "output_type": "display_data"
    },
    {
     "data": {
      "image/png": "[encoded data removed]",
      "text/plain": [
       "<Figure size 432x288 with 1 Axes>"
      ]
     },
     "metadata": {},
     "output_type": "display_data"
    },
    {
     "name": "stdout",
     "output_type": "stream",
     "text": [
      "Itersection area:  0.9181996193017706\n"
     ]
    }
   ],
   "source": [
    "calc_error(most_freq_ips, most_freq_res)"
   ]
  },
  {
   "cell_type": "code",
   "execution_count": null,
   "metadata": {},
   "outputs": [],
   "source": []
  }
 ],
 "metadata": {
  "kernelspec": {
   "display_name": "Python 3",
   "language": "python",
   "name": "python3"
  },
  "language_info": {
   "codemirror_mode": {
    "name": "ipython",
    "version": 3
   },
   "file_extension": ".py",
   "mimetype": "text/x-python",
   "name": "python",
   "nbconvert_exporter": "python",
   "pygments_lexer": "ipython3",
   "version": "3.6.4"
  }
 },
 "nbformat": 4,
 "nbformat_minor": 1
}
