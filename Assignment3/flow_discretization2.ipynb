{
 "cells": [
  {
   "cell_type": "code",
   "execution_count": 1,
   "metadata": {},
   "outputs": [],
   "source": [
    "import pandas as pd\n",
    "import matplotlib.pyplot as plt\n",
    "import seaborn as sns\n",
    "import random\n",
    "import numpy as np\n",
    "import socket, struct\n",
    "import netaddr\n",
    "from sklearn.cluster import KMeans"
   ]
  },
  {
   "cell_type": "code",
   "execution_count": 2,
   "metadata": {},
   "outputs": [
    {
     "data": {
      "text/html": [
       "<div>\n",
       "<style scoped>\n",
       "    .dataframe tbody tr th:only-of-type {\n",
       "        vertical-align: middle;\n",
       "    }\n",
       "\n",
       "    .dataframe tbody tr th {\n",
       "        vertical-align: top;\n",
       "    }\n",
       "\n",
       "    .dataframe thead th {\n",
       "        text-align: right;\n",
       "    }\n",
       "</style>\n",
       "<table border=\"1\" class=\"dataframe\">\n",
       "  <thead>\n",
       "    <tr style=\"text-align: right;\">\n",
       "      <th></th>\n",
       "      <th>Durat</th>\n",
       "      <th>Prot</th>\n",
       "      <th>Flags</th>\n",
       "      <th>Tos</th>\n",
       "      <th>Packets</th>\n",
       "      <th>Bytes</th>\n",
       "      <th>Label</th>\n",
       "      <th>Labels</th>\n",
       "      <th>SrcIPAddr</th>\n",
       "      <th>SrcIPPort</th>\n",
       "      <th>DstIPAddr</th>\n",
       "      <th>DstIPPort</th>\n",
       "    </tr>\n",
       "  </thead>\n",
       "  <tbody>\n",
       "    <tr>\n",
       "      <th>20</th>\n",
       "      <td>4.985</td>\n",
       "      <td>TCP</td>\n",
       "      <td>PA_</td>\n",
       "      <td>0</td>\n",
       "      <td>91</td>\n",
       "      <td>86277</td>\n",
       "      <td>LEGITIMATE</td>\n",
       "      <td>NaN</td>\n",
       "      <td>147.32.80.13</td>\n",
       "      <td>80</td>\n",
       "      <td>147.32.85.88</td>\n",
       "      <td>56949</td>\n",
       "    </tr>\n",
       "    <tr>\n",
       "      <th>51</th>\n",
       "      <td>0.000</td>\n",
       "      <td>TCP</td>\n",
       "      <td>A_</td>\n",
       "      <td>0</td>\n",
       "      <td>1</td>\n",
       "      <td>66</td>\n",
       "      <td>LEGITIMATE</td>\n",
       "      <td>NaN</td>\n",
       "      <td>147.32.86.110</td>\n",
       "      <td>48102</td>\n",
       "      <td>74.125.232.214</td>\n",
       "      <td>443</td>\n",
       "    </tr>\n",
       "    <tr>\n",
       "      <th>57</th>\n",
       "      <td>4.921</td>\n",
       "      <td>TCP</td>\n",
       "      <td>A_</td>\n",
       "      <td>0</td>\n",
       "      <td>49</td>\n",
       "      <td>3234</td>\n",
       "      <td>LEGITIMATE</td>\n",
       "      <td>NaN</td>\n",
       "      <td>147.32.85.88</td>\n",
       "      <td>56949</td>\n",
       "      <td>147.32.80.13</td>\n",
       "      <td>80</td>\n",
       "    </tr>\n",
       "    <tr>\n",
       "      <th>73</th>\n",
       "      <td>4.742</td>\n",
       "      <td>TCP</td>\n",
       "      <td>A_</td>\n",
       "      <td>0</td>\n",
       "      <td>118</td>\n",
       "      <td>7080</td>\n",
       "      <td>LEGITIMATE</td>\n",
       "      <td>NaN</td>\n",
       "      <td>147.32.84.59</td>\n",
       "      <td>2768</td>\n",
       "      <td>74.125.108.208</td>\n",
       "      <td>80</td>\n",
       "    </tr>\n",
       "    <tr>\n",
       "      <th>75</th>\n",
       "      <td>0.000</td>\n",
       "      <td>TCP</td>\n",
       "      <td>A_</td>\n",
       "      <td>0</td>\n",
       "      <td>1</td>\n",
       "      <td>60</td>\n",
       "      <td>LEGITIMATE</td>\n",
       "      <td>NaN</td>\n",
       "      <td>147.32.84.59</td>\n",
       "      <td>56058</td>\n",
       "      <td>74.125.232.215</td>\n",
       "      <td>443</td>\n",
       "    </tr>\n",
       "  </tbody>\n",
       "</table>\n",
       "</div>"
      ],
      "text/plain": [
       "    Durat Prot Flags  Tos  Packets  Bytes       Label  Labels      SrcIPAddr  \\\n",
       "20  4.985  TCP   PA_    0       91  86277  LEGITIMATE     NaN   147.32.80.13   \n",
       "51  0.000  TCP    A_    0        1     66  LEGITIMATE     NaN  147.32.86.110   \n",
       "57  4.921  TCP    A_    0       49   3234  LEGITIMATE     NaN   147.32.85.88   \n",
       "73  4.742  TCP    A_    0      118   7080  LEGITIMATE     NaN   147.32.84.59   \n",
       "75  0.000  TCP    A_    0        1     60  LEGITIMATE     NaN   147.32.84.59   \n",
       "\n",
       "   SrcIPPort       DstIPAddr DstIPPort  \n",
       "20        80    147.32.85.88     56949  \n",
       "51     48102  74.125.232.214       443  \n",
       "57     56949    147.32.80.13        80  \n",
       "73      2768  74.125.108.208        80  \n",
       "75     56058  74.125.232.215       443  "
      ]
     },
     "execution_count": 2,
     "metadata": {},
     "output_type": "execute_result"
    }
   ],
   "source": [
    "tp = pd.read_csv('capture20110818.pcap.netflow.labeled.csv', chunksize=1000)\n",
    "df = pd.concat(tp, ignore_index=True)\n",
    "\n",
    "\n",
    "#preprocessing\n",
    "df = df[df['Label']!='Background']\n",
    "\n",
    "ips = df['SrcIPAddr:Port'].str.split(':')\n",
    "df['SrcIPAddr'] = ips.str[0]\n",
    "df['SrcIPPort'] = ips.str[-1]\n",
    "ips = df['DstIPAddr:Port'].str.split(':')\n",
    "df['DstIPAddr'] = ips.str[0]\n",
    "df['DstIPPort'] = ips.str[-1]\n",
    "\n",
    "#get rid of the host\n",
    "# df = df[df['SrcIPAddr']!='147.32.84.165']\n",
    "\n",
    "df = df.drop(['Date', 'Flow_start', 'tmp', 'Flows', 'SrcIPAddr:Port', 'DstIPAddr:Port'], axis=1)\n",
    "df.head()"
   ]
  },
  {
   "cell_type": "code",
   "execution_count": 3,
   "metadata": {},
   "outputs": [
    {
     "name": "stdout",
     "output_type": "stream",
     "text": [
      "['147.32.84.165' '147.32.84.209' '147.32.84.208' '147.32.84.207'\n",
      " '147.32.84.204' '147.32.84.206' '147.32.84.192' '147.32.84.191'\n",
      " '147.32.84.193' '147.32.84.205' '147.32.84.170' '147.32.84.134'\n",
      " '147.32.84.164' '147.32.87.36' '147.32.80.9']\n"
     ]
    },
    {
     "data": {
      "text/plain": [
       "147.32.84.170    3510\n",
       "147.32.84.164    2451\n",
       "147.32.84.134     755\n",
       "147.32.87.36      336\n",
       "147.32.84.165     119\n",
       "147.32.84.209     101\n",
       "147.32.84.208     100\n",
       "147.32.84.207      98\n",
       "147.32.84.204      96\n",
       "147.32.84.206      96\n",
       "147.32.84.191      93\n",
       "147.32.84.192      93\n",
       "147.32.84.193      87\n",
       "147.32.84.205      86\n",
       "147.32.80.9        68\n",
       "Name: SrcIPAddr, dtype: int64"
      ]
     },
     "execution_count": 3,
     "metadata": {},
     "output_type": "execute_result"
    }
   ],
   "source": [
    "# malicious IP hosts \n",
    "# df[df['Label']=='Botnet']['SrcIPAddr'].value_counts()\n",
    "# we are taking most frequent ones (also mentioned in README)\n",
    "train_botnet_IP = '147.32.84.165'\n",
    "\n",
    "botnet_IPs = np.array(['147.32.84.209', '147.32.84.208', '147.32.84.207', '147.32.84.204', '147.32.84.206', \n",
    "              '147.32.84.192', '147.32.84.191', '147.32.84.193', '147.32.84.205'])\n",
    "normal_IPs = np.array(['147.32.84.170', '147.32.84.134', '147.32.84.164', '147.32.87.36', '147.32.80.9'])\n",
    "\n",
    "all_IPs = np.concatenate(([train_botnet_IP], botnet_IPs, normal_IPs))\n",
    "\n",
    "print(all_IPs)\n",
    "\n",
    "df_all_IPs = df[df['SrcIPAddr'].isin(all_IPs)]\n",
    "\n",
    "df_all_IPs['SrcIPAddr'].value_counts()"
   ]
  },
  {
   "cell_type": "code",
   "execution_count": 4,
   "metadata": {},
   "outputs": [],
   "source": [
    "#elbow value identified from the above graphs\n",
    "def get_elbows(df_numerical):\n",
    "    elbow = {'Durat': 3, 'Packets': 3, 'Bytes': 3}\n",
    "    for column in df_numerical:\n",
    "        X = df_numerical[column].values.reshape(-1, 1)\n",
    "        kmeans = KMeans(n_clusters=elbow[column], random_state=0).fit(X)\n",
    "        df_numerical[column] = kmeans.labels_\n",
    "    return df_numerical"
   ]
  },
  {
   "cell_type": "code",
   "execution_count": 5,
   "metadata": {},
   "outputs": [],
   "source": [
    "def discretize(df):\n",
    "    df_numerical = df[['Durat', 'Packets', 'Bytes']]\n",
    "    df_numerical = get_elbows(df_numerical)\n",
    "    df_text = df[['Prot', 'Flags', 'Tos', 'SrcIPPort', 'DstIPAddr', 'DstIPPort']] \n",
    "    for column in df_text:\n",
    "        labels, levels = pd.factorize(df_text[column])\n",
    "        df_text[column] = labels\n",
    "\n",
    "    df_discrete = pd.concat([df_text, df_numerical], axis=1)\n",
    "    df_discrete = df_discrete[['Bytes', 'Packets', 'Flags', 'Durat']] #, 'Prot','Durat'\n",
    "    code = 0\n",
    "    spaceSize = 1\n",
    "    for column in df_discrete:\n",
    "        spaceSize = spaceSize * df_discrete[column].value_counts(dropna=True).count()\n",
    "\n",
    "    codes = np.array([])\n",
    "    spaceSizeCurrent = spaceSize\n",
    "    for index, row in df_discrete.iterrows():\n",
    "        for column in df_discrete:\n",
    "            if (row[column] >= 0):\n",
    "                code  = code + (row[column] * spaceSizeCurrent / df_discrete[column].value_counts(dropna=True).count())\n",
    "                spaceSizeCurrent =  spaceSizeCurrent / df_discrete[column].value_counts(dropna=True).count()\n",
    "\n",
    "        codes = np.append(codes,code)\n",
    "        spaceSizeCurrent = spaceSize\n",
    "        code = 0\n",
    "\n",
    "\n",
    "    df_discrete['codes'] = codes\n",
    "    df = pd.concat([df_discrete,df[['SrcIPAddr','Label']]], axis=1)\n",
    "    return df"
   ]
  },
  {
   "cell_type": "code",
   "execution_count": 6,
   "metadata": {},
   "outputs": [
    {
     "name": "stderr",
     "output_type": "stream",
     "text": [
      "C:\\Users\\Anna\\AppData\\Local\\Programs\\Python\\Python36-32\\lib\\site-packages\\ipykernel_launcher.py:7: SettingWithCopyWarning: \n",
      "A value is trying to be set on a copy of a slice from a DataFrame.\n",
      "Try using .loc[row_indexer,col_indexer] = value instead\n",
      "\n",
      "See the caveats in the documentation: http://pandas.pydata.org/pandas-docs/stable/indexing.html#indexing-view-versus-copy\n",
      "  import sys\n"
     ]
    },
    {
     "data": {
      "text/html": [
       "<div>\n",
       "<style scoped>\n",
       "    .dataframe tbody tr th:only-of-type {\n",
       "        vertical-align: middle;\n",
       "    }\n",
       "\n",
       "    .dataframe tbody tr th {\n",
       "        vertical-align: top;\n",
       "    }\n",
       "\n",
       "    .dataframe thead th {\n",
       "        text-align: right;\n",
       "    }\n",
       "</style>\n",
       "<table border=\"1\" class=\"dataframe\">\n",
       "  <thead>\n",
       "    <tr style=\"text-align: right;\">\n",
       "      <th></th>\n",
       "      <th>Bytes</th>\n",
       "      <th>Packets</th>\n",
       "      <th>Flags</th>\n",
       "      <th>Durat</th>\n",
       "      <th>codes</th>\n",
       "      <th>SrcIPAddr</th>\n",
       "      <th>Label</th>\n",
       "    </tr>\n",
       "  </thead>\n",
       "  <tbody>\n",
       "    <tr>\n",
       "      <th>127</th>\n",
       "      <td>0</td>\n",
       "      <td>0</td>\n",
       "      <td>0</td>\n",
       "      <td>1</td>\n",
       "      <td>1.0</td>\n",
       "      <td>147.32.84.164</td>\n",
       "      <td>LEGITIMATE</td>\n",
       "    </tr>\n",
       "    <tr>\n",
       "      <th>610</th>\n",
       "      <td>0</td>\n",
       "      <td>0</td>\n",
       "      <td>1</td>\n",
       "      <td>0</td>\n",
       "      <td>3.0</td>\n",
       "      <td>147.32.84.164</td>\n",
       "      <td>LEGITIMATE</td>\n",
       "    </tr>\n",
       "    <tr>\n",
       "      <th>727</th>\n",
       "      <td>0</td>\n",
       "      <td>0</td>\n",
       "      <td>2</td>\n",
       "      <td>2</td>\n",
       "      <td>8.0</td>\n",
       "      <td>147.32.84.164</td>\n",
       "      <td>LEGITIMATE</td>\n",
       "    </tr>\n",
       "    <tr>\n",
       "      <th>1268</th>\n",
       "      <td>0</td>\n",
       "      <td>0</td>\n",
       "      <td>0</td>\n",
       "      <td>0</td>\n",
       "      <td>0.0</td>\n",
       "      <td>147.32.84.164</td>\n",
       "      <td>LEGITIMATE</td>\n",
       "    </tr>\n",
       "    <tr>\n",
       "      <th>1302</th>\n",
       "      <td>0</td>\n",
       "      <td>0</td>\n",
       "      <td>0</td>\n",
       "      <td>0</td>\n",
       "      <td>0.0</td>\n",
       "      <td>147.32.84.164</td>\n",
       "      <td>LEGITIMATE</td>\n",
       "    </tr>\n",
       "  </tbody>\n",
       "</table>\n",
       "</div>"
      ],
      "text/plain": [
       "      Bytes  Packets  Flags  Durat  codes      SrcIPAddr       Label\n",
       "127       0        0      0      1    1.0  147.32.84.164  LEGITIMATE\n",
       "610       0        0      1      0    3.0  147.32.84.164  LEGITIMATE\n",
       "727       0        0      2      2    8.0  147.32.84.164  LEGITIMATE\n",
       "1268      0        0      0      0    0.0  147.32.84.164  LEGITIMATE\n",
       "1302      0        0      0      0    0.0  147.32.84.164  LEGITIMATE"
      ]
     },
     "execution_count": 6,
     "metadata": {},
     "output_type": "execute_result"
    }
   ],
   "source": [
    "discret_df = discretize(df_all_IPs)\n",
    "discret_df.head()"
   ]
  },
  {
   "cell_type": "code",
   "execution_count": 7,
   "metadata": {},
   "outputs": [
    {
     "data": {
      "text/plain": [
       "Bytes  Label     \n",
       "0      Botnet        1029\n",
       "       LEGITIMATE    7013\n",
       "1      LEGITIMATE      11\n",
       "2      LEGITIMATE      36\n",
       "dtype: int64"
      ]
     },
     "execution_count": 7,
     "metadata": {},
     "output_type": "execute_result"
    }
   ],
   "source": [
    "discret_df.groupby(['Bytes', 'Label']).size()"
   ]
  },
  {
   "cell_type": "code",
   "execution_count": 8,
   "metadata": {},
   "outputs": [],
   "source": [
    "def n2_gram_model(n_grams):\n",
    "    model = dict.fromkeys(n_grams)\n",
    "\n",
    "    for i in range(len(n_grams)-1):\n",
    "        if model[n_grams[i]] is None:\n",
    "            model[n_grams[i]] = {}\n",
    "        if n_grams[i+1] not in model[n_grams[i]]:\n",
    "            model[n_grams[i]][n_grams[i+1]] = 1.0\n",
    "        model[n_grams[i]][n_grams[i + 1]] += 10\n",
    "\n",
    "    for key in model:\n",
    "        if model[key] is None:\n",
    "            continue\n",
    "        total_count = float(sum(model[key].values()))\n",
    "        for w2 in model[key]:\n",
    "            model[key][w2] /= total_count\n",
    "\n",
    "    return model\n",
    "\n",
    "\n",
    "## Laplace (add-one) smoothing -- merely adds one to each count \n",
    "def n2_gram_model_based(n_grams, base):\n",
    "    model = dict.fromkeys(base)\n",
    "    for key in base:\n",
    "        model[key] = {}\n",
    "        for w in base[key]:\n",
    "            model[key][w] = 1.0\n",
    "    for i in range(len(n_grams)-1):\n",
    "        if n_grams[i] not in model:\n",
    "            model[n_grams[i]] = {}\n",
    "        if n_grams[i+1] not in model[n_grams[i]]:\n",
    "            model[n_grams[i]][n_grams[i+1]] = 1.0\n",
    "        model[n_grams[i]][n_grams[i + 1]] += 10\n",
    "\n",
    "    for key in model:\n",
    "        if model[key] is None:\n",
    "            continue\n",
    "        total_count = float(sum(model[key].values()))\n",
    "        for w2 in model[key]:\n",
    "            model[key][w2] /= total_count\n",
    "\n",
    "    return model\n",
    "\n",
    "def n2_gram_predict(model, n_grams, threshold):\n",
    "    probalilites = []\n",
    "    true_prob = []\n",
    "    for i in range(len(n_grams)-1):\n",
    "        if n_grams[i] not in model or n_grams[i+1] not in model[n_grams[i]]:\n",
    "            prob = 0\n",
    "        else:\n",
    "            prob = model[n_grams[i]][n_grams[i+1]]\n",
    "        true_prob.append(prob)\n",
    "        if prob > threshold:\n",
    "            true_prob.append(prob)\n",
    "            probalilites.append(1)\n",
    "        else:\n",
    "            probalilites.append(0)\n",
    "    return true_prob, np.array(probalilites).transpose()"
   ]
  },
  {
   "cell_type": "code",
   "execution_count": 9,
   "metadata": {},
   "outputs": [],
   "source": [
    "def n3_gram_model(n_grams):\n",
    "    model = {}\n",
    "    for i in range(len(n_grams)-2):\n",
    "        key = (n_grams[i], n_grams[i+1])\n",
    "        w3 = n_grams[i+2]\n",
    "        if key not in model:\n",
    "            model[key] = {}\n",
    "        if w3 not in model[key]:\n",
    "            model[key][w3] = 1.0\n",
    "        model[key][w3] = model[key][w3] + 10\n",
    "    for key in model:\n",
    "        total_count = float(sum(model[key].values()))\n",
    "        for w3 in model[key]:\n",
    "            model[key][w3] /= total_count\n",
    "\n",
    "    return model\n",
    "\n",
    "## Laplace (add-one) smoothing -- merely adds one to each count \n",
    "def n3_gram_model_based(n_grams, base):\n",
    "    model = dict.fromkeys(base)\n",
    "    for key in base:\n",
    "        model[key] = {}\n",
    "        for w in base[key]:\n",
    "            model[key][w] = 1.0\n",
    "    for i in range(len(n_grams)-2):\n",
    "        key = (n_grams[i], n_grams[i+1])\n",
    "        w3 = n_grams[i+2]\n",
    "        if key not in model:\n",
    "            model[key] = {}\n",
    "        if w3 not in model[key]:\n",
    "            model[key][w3] = 1.0\n",
    "        model[key][w3] = model[key][w3] + 10\n",
    "    for key in model:\n",
    "        total_count = float(sum(model[key].values()))\n",
    "        for w3 in model[key]:\n",
    "            model[key][w3] /= total_count\n",
    "\n",
    "    return model\n",
    "\n",
    "def n3_gram_predict(model, n_grams, threshold):\n",
    "    probalilites = []\n",
    "    true_prob = []\n",
    "    for i in range(len(n_grams)-2):\n",
    "        key = (n_grams[i], n_grams[i+1])\n",
    "        w3 = n_grams[i+2]\n",
    "        if key not in model or w3 not in model[key]:\n",
    "#             print(key)\n",
    "            prob = 0\n",
    "        else:\n",
    "            prob = model[key][w3]\n",
    "        true_prob.append(prob)\n",
    "        if prob > threshold:\n",
    "            probalilites.append(1)\n",
    "        else:\n",
    "            probalilites.append(0)\n",
    "    return true_prob, np.array(probalilites).transpose()"
   ]
  },
  {
   "cell_type": "code",
   "execution_count": 10,
   "metadata": {},
   "outputs": [],
   "source": [
    "def normilize(base):\n",
    "    ret_model = dict.fromkeys(base)\n",
    "    length = len(ret_model.values())\n",
    "    sum = 0\n",
    "    for key in base:\n",
    "        ret_model[key] = {}\n",
    "        for w in base[key]:\n",
    "            ret_model[key][w] = base[key][w] / length\n",
    "            sum += ret_model[key][w]\n",
    "    return ret_model\n",
    "    \n",
    "def KL_divergence(p, q):\n",
    "    q = normilize(q)\n",
    "    dist = 0\n",
    "    for key in p:     \n",
    "        for w in p[key]:\n",
    "            dist += (p[key][w] * np.log(p[key][w]/q[key][w]))\n",
    "    return dist\n",
    "            "
   ]
  },
  {
   "cell_type": "markdown",
   "metadata": {},
   "source": [
    "## N2 gram\n"
   ]
  },
  {
   "cell_type": "code",
   "execution_count": 136,
   "metadata": {},
   "outputs": [
    {
     "name": "stdout",
     "output_type": "stream",
     "text": [
      "{9.0: {9.0: 0.3263157894736842, 39.0: 0.22105263157894736, 11.0: 0.22105263157894736, 24.0: 0.11578947368421053, 25.0: 0.11578947368421053}, 39.0: {9.0: 1.0}, 11.0: {30.0: 0.5, 9.0: 0.5}, 30.0: {30.0: 0.9420131291028446, 9.0: 0.022975929978118162, 0.0: 0.012035010940919038, 6.0: 0.022975929978118162}, 24.0: {30.0: 1.0}, 25.0: {24.0: 1.0}, 0.0: {0.0: 0.65625, 8.0: 0.34375}, 8.0: {8.0: 0.5, 6.0: 0.5}, 6.0: {6.0: 0.6612903225806451, 30.0: 0.3387096774193548}}\n"
     ]
    }
   ],
   "source": [
    "model = n2_gram_model(discret_df[discret_df['SrcIPAddr'] == train_botnet_IP]['codes'].values)\n",
    "print(model)\n",
    "\n",
    "threshold = 0.005"
   ]
  },
  {
   "cell_type": "code",
   "execution_count": 137,
   "metadata": {},
   "outputs": [
    {
     "name": "stdout",
     "output_type": "stream",
     "text": [
      "0.7989261904858567 0.3322647752931\n",
      "0.8025219670073066 0.2217563177196304\n",
      "0.8148774721935385 0.39254355988801803\n",
      "0.8219216162811699 0.2916172686646126\n",
      "0.8253523549979814 0.22376768989199136\n",
      "0.8298263207946293 0.2582376089442656\n",
      "0.83346759675127 0.39693980400587303\n",
      "0.8577282587410933 0.29092334839857015\n",
      "0.8630984753937424 0.26452543080847957\n"
     ]
    }
   ],
   "source": [
    "norm_model = normilize(model)\n",
    "for ip in botnet_IPs:\n",
    "    test_model = discret_df[discret_df['SrcIPAddr'] == ip]['codes'].values\n",
    "    true_prob, prob = n2_gram_predict(model, test_model, threshold)\n",
    "    test_ngram = n2_gram_model_based(test_model, model)\n",
    "    dist = KL_divergence(norm_model, test_ngram)\n",
    "    print(sum(true_prob)/len(true_prob), dist)"
   ]
  },
  {
   "cell_type": "code",
   "execution_count": 138,
   "metadata": {},
   "outputs": [
    {
     "name": "stdout",
     "output_type": "stream",
     "text": [
      "0.19584392179991353 3.4736338243880995\n",
      "0.4770598627358514 1.6891206245595158\n",
      "0.3227817689164173 3.2404925264757143\n",
      "0.05834137487363295 2.920779814631303\n",
      "0.3263157894736841 0.4516502192274682\n"
     ]
    }
   ],
   "source": [
    "for ip in normal_IPs:\n",
    "    test_model = discret_df[discret_df['SrcIPAddr'] == ip]['codes'].values\n",
    "    true_prob, prob = n2_gram_predict(model, test_model, threshold)\n",
    "    test_ngram = n2_gram_model_based(test_model, model)\n",
    "    dist = KL_divergence(norm_model, test_ngram)\n",
    "    print(sum(true_prob)/len(true_prob), dist)"
   ]
  },
  {
   "cell_type": "markdown",
   "metadata": {},
   "source": [
    "## N3 gram"
   ]
  },
  {
   "cell_type": "code",
   "execution_count": 139,
   "metadata": {},
   "outputs": [
    {
     "name": "stdout",
     "output_type": "stream",
     "text": [
      "{(9.0, 9.0): {39.0: 0.65625, 24.0: 0.34375}, (9.0, 39.0): {9.0: 1.0}, (39.0, 9.0): {11.0: 1.0}, (9.0, 11.0): {30.0: 0.5, 9.0: 0.5}, (11.0, 30.0): {30.0: 1.0}, (30.0, 30.0): {30.0: 0.9502314814814815, 9.0: 0.01273148148148148, 0.0: 0.01273148148148148, 6.0: 0.024305555555555556}, (30.0, 9.0): {9.0: 0.5, 25.0: 0.5}, (11.0, 9.0): {9.0: 1.0}, (9.0, 24.0): {30.0: 1.0}, (24.0, 30.0): {9.0: 0.5, 30.0: 0.5}, (9.0, 25.0): {24.0: 1.0}, (25.0, 24.0): {30.0: 1.0}, (30.0, 0.0): {0.0: 1.0}, (0.0, 0.0): {0.0: 0.5, 8.0: 0.5}, (0.0, 8.0): {8.0: 1.0}, (8.0, 8.0): {6.0: 1.0}, (8.0, 6.0): {6.0: 1.0}, (6.0, 6.0): {30.0: 0.34375, 6.0: 0.65625}, (6.0, 30.0): {30.0: 1.0}, (30.0, 6.0): {30.0: 0.5, 6.0: 0.5}}\n"
     ]
    }
   ],
   "source": [
    "model = n3_gram_model(discret_df[discret_df['SrcIPAddr'] == train_botnet_IP]['codes'].values)\n",
    "print(model)\n",
    "threshold = 0.005"
   ]
  },
  {
   "cell_type": "code",
   "execution_count": 141,
   "metadata": {},
   "outputs": [
    {
     "name": "stdout",
     "output_type": "stream",
     "text": [
      "MLE           KL\n",
      "0.7792625327347548 0.78555249331489\n",
      "0.8041147014361298 0.6841539319886952\n",
      "0.8000337577160491 0.5264875080504203\n",
      "0.8276940504334119 0.4734733037386963\n",
      "0.8383323483057523 0.4409439254316388\n",
      "0.8549806674806673 0.4092335064197044\n",
      "0.8656262718762715 0.3589649589238714\n",
      "0.8895969498910673 0.3606675288404676\n",
      "0.876515652557319 0.3774147984901173\n"
     ]
    }
   ],
   "source": [
    "norm_model = normilize(model)\n",
    "print('MLE           KL')\n",
    "for ip in botnet_IPs:\n",
    "    test_model = discret_df[discret_df['SrcIPAddr'] == ip]['codes'].values\n",
    "    true_prob, prob = n3_gram_predict(model, test_model, threshold)\n",
    "    test_ngram = n3_gram_model_based(test_model, model)\n",
    "    dist = KL_divergence(norm_model, test_ngram)\n",
    "    print(sum(true_prob)/len(prob), dist)\n"
   ]
  },
  {
   "cell_type": "code",
   "execution_count": 143,
   "metadata": {},
   "outputs": [
    {
     "name": "stdout",
     "output_type": "stream",
     "text": [
      "0.026608822690992018 3.0082585121577035\n",
      "0.2450199203187251 1.5913795677527551\n",
      "0.11359228256431196 3.3576284082063954\n",
      "0.012443862275449101 2.495675599753367\n",
      "0.0 0.3519633650302155\n"
     ]
    }
   ],
   "source": [
    "for ip in normal_IPs:\n",
    "    test_model = discret_df[discret_df['SrcIPAddr'] == ip]['codes'].values\n",
    "    true_prob, prob = n3_gram_predict(model, test_model, threshold)\n",
    "    test_ngram = n3_gram_model_based(test_model, model)\n",
    "    dist = KL_divergence(norm_model, test_ngram)\n",
    "    print(sum(true_prob)/len(prob), dist)\n"
   ]
  },
  {
   "cell_type": "code",
   "execution_count": null,
   "metadata": {},
   "outputs": [],
   "source": []
  },
  {
   "cell_type": "code",
   "execution_count": null,
   "metadata": {},
   "outputs": [],
   "source": []
  }
 ],
 "metadata": {
  "kernelspec": {
   "display_name": "Python 3",
   "language": "python",
   "name": "python3"
  },
  "language_info": {
   "codemirror_mode": {
    "name": "ipython",
    "version": 3
   },
   "file_extension": ".py",
   "mimetype": "text/x-python",
   "name": "python",
   "nbconvert_exporter": "python",
   "pygments_lexer": "ipython3",
   "version": "3.6.4"
  }
 },
 "nbformat": 4,
 "nbformat_minor": 2
}
