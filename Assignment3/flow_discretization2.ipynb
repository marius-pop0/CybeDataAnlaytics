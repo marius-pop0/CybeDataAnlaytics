{
 "cells": [
  {
   "cell_type": "code",
   "execution_count": 21,
   "metadata": {},
   "outputs": [],
   "source": [
    "import pandas as pd\n",
    "import matplotlib.pyplot as plt\n",
    "import seaborn as sns\n",
    "import random\n",
    "import numpy as np\n",
    "import socket, struct\n",
    "import netaddr\n",
    "from sklearn.cluster import KMeans\n",
    "\n"
   ]
  },
  {
   "cell_type": "code",
   "execution_count": 77,
   "metadata": {},
   "outputs": [
    {
     "data": {
      "text/html": [
       "<div>\n",
       "<style scoped>\n",
       "    .dataframe tbody tr th:only-of-type {\n",
       "        vertical-align: middle;\n",
       "    }\n",
       "\n",
       "    .dataframe tbody tr th {\n",
       "        vertical-align: top;\n",
       "    }\n",
       "\n",
       "    .dataframe thead th {\n",
       "        text-align: right;\n",
       "    }\n",
       "</style>\n",
       "<table border=\"1\" class=\"dataframe\">\n",
       "  <thead>\n",
       "    <tr style=\"text-align: right;\">\n",
       "      <th></th>\n",
       "      <th>Durat</th>\n",
       "      <th>Prot</th>\n",
       "      <th>Flags</th>\n",
       "      <th>Tos</th>\n",
       "      <th>Packets</th>\n",
       "      <th>Bytes</th>\n",
       "      <th>Label</th>\n",
       "      <th>Labels</th>\n",
       "      <th>SrcIPAddr</th>\n",
       "      <th>SrcIPPort</th>\n",
       "      <th>DstIPAddr</th>\n",
       "      <th>DstIPPort</th>\n",
       "    </tr>\n",
       "  </thead>\n",
       "  <tbody>\n",
       "    <tr>\n",
       "      <th>20</th>\n",
       "      <td>4.985</td>\n",
       "      <td>TCP</td>\n",
       "      <td>PA_</td>\n",
       "      <td>0</td>\n",
       "      <td>91</td>\n",
       "      <td>86277</td>\n",
       "      <td>LEGITIMATE</td>\n",
       "      <td>NaN</td>\n",
       "      <td>147.32.80.13</td>\n",
       "      <td>80</td>\n",
       "      <td>147.32.85.88</td>\n",
       "      <td>56949</td>\n",
       "    </tr>\n",
       "    <tr>\n",
       "      <th>51</th>\n",
       "      <td>0.000</td>\n",
       "      <td>TCP</td>\n",
       "      <td>A_</td>\n",
       "      <td>0</td>\n",
       "      <td>1</td>\n",
       "      <td>66</td>\n",
       "      <td>LEGITIMATE</td>\n",
       "      <td>NaN</td>\n",
       "      <td>147.32.86.110</td>\n",
       "      <td>48102</td>\n",
       "      <td>74.125.232.214</td>\n",
       "      <td>443</td>\n",
       "    </tr>\n",
       "    <tr>\n",
       "      <th>57</th>\n",
       "      <td>4.921</td>\n",
       "      <td>TCP</td>\n",
       "      <td>A_</td>\n",
       "      <td>0</td>\n",
       "      <td>49</td>\n",
       "      <td>3234</td>\n",
       "      <td>LEGITIMATE</td>\n",
       "      <td>NaN</td>\n",
       "      <td>147.32.85.88</td>\n",
       "      <td>56949</td>\n",
       "      <td>147.32.80.13</td>\n",
       "      <td>80</td>\n",
       "    </tr>\n",
       "    <tr>\n",
       "      <th>73</th>\n",
       "      <td>4.742</td>\n",
       "      <td>TCP</td>\n",
       "      <td>A_</td>\n",
       "      <td>0</td>\n",
       "      <td>118</td>\n",
       "      <td>7080</td>\n",
       "      <td>LEGITIMATE</td>\n",
       "      <td>NaN</td>\n",
       "      <td>147.32.84.59</td>\n",
       "      <td>2768</td>\n",
       "      <td>74.125.108.208</td>\n",
       "      <td>80</td>\n",
       "    </tr>\n",
       "    <tr>\n",
       "      <th>75</th>\n",
       "      <td>0.000</td>\n",
       "      <td>TCP</td>\n",
       "      <td>A_</td>\n",
       "      <td>0</td>\n",
       "      <td>1</td>\n",
       "      <td>60</td>\n",
       "      <td>LEGITIMATE</td>\n",
       "      <td>NaN</td>\n",
       "      <td>147.32.84.59</td>\n",
       "      <td>56058</td>\n",
       "      <td>74.125.232.215</td>\n",
       "      <td>443</td>\n",
       "    </tr>\n",
       "  </tbody>\n",
       "</table>\n",
       "</div>"
      ],
      "text/plain": [
       "    Durat Prot Flags  Tos  Packets  Bytes       Label  Labels      SrcIPAddr  \\\n",
       "20  4.985  TCP   PA_    0       91  86277  LEGITIMATE     NaN   147.32.80.13   \n",
       "51  0.000  TCP    A_    0        1     66  LEGITIMATE     NaN  147.32.86.110   \n",
       "57  4.921  TCP    A_    0       49   3234  LEGITIMATE     NaN   147.32.85.88   \n",
       "73  4.742  TCP    A_    0      118   7080  LEGITIMATE     NaN   147.32.84.59   \n",
       "75  0.000  TCP    A_    0        1     60  LEGITIMATE     NaN   147.32.84.59   \n",
       "\n",
       "   SrcIPPort       DstIPAddr DstIPPort  \n",
       "20        80    147.32.85.88     56949  \n",
       "51     48102  74.125.232.214       443  \n",
       "57     56949    147.32.80.13        80  \n",
       "73      2768  74.125.108.208        80  \n",
       "75     56058  74.125.232.215       443  "
      ]
     },
     "execution_count": 77,
     "metadata": {},
     "output_type": "execute_result"
    }
   ],
   "source": [
    "tp = pd.read_csv('capture20110818.pcap.netflow.labeled.csv', chunksize=1000)\n",
    "df = pd.concat(tp, ignore_index=True)\n",
    "\n",
    "\n",
    "#preprocessing\n",
    "df = df[df['Label']!='Background']\n",
    "\n",
    "\n",
    "ips = df['SrcIPAddr:Port'].str.split(':')\n",
    "df['SrcIPAddr'] = ips.str[0]\n",
    "df['SrcIPPort'] = ips.str[-1]\n",
    "ips = df['DstIPAddr:Port'].str.split(':')\n",
    "df['DstIPAddr'] = ips.str[0]\n",
    "df['DstIPPort'] = ips.str[-1]\n",
    "\n",
    "df = df.drop(['Date', 'Flow_start', 'tmp', 'Flows', 'SrcIPAddr:Port', 'DstIPAddr:Port'], axis=1)\n",
    "df.head()"
   ]
  },
  {
   "cell_type": "code",
   "execution_count": 82,
   "metadata": {},
   "outputs": [
    {
     "name": "stdout",
     "output_type": "stream",
     "text": [
      "dict_keys(['147.32.84.165', '147.32.84.209', '147.32.84.208'])\n",
      "dict_keys(['147.32.84.170', '147.32.84.134'])\n"
     ]
    }
   ],
   "source": [
    "# malicious IP hosts \n",
    "# df[df['Label']=='Botnet']['SrcIPAddr'].value_counts()\n",
    "# we are taking most frequent ones (also mentioned in README)\n",
    "botnet_IPs = ['147.32.84.165', '147.32.84.209', '147.32.84.208']#, '147.32.84.207', '147.32.84.204', '147.32.84.206', \n",
    "#               '147.32.84.192', '147.32.84.191', '147.32.84.193', '147.32.84.205']\n",
    "normal_IPs = ['147.32.84.170', '147.32.84.134']#, '147.32.84.164', '147.32.87.36', '147.32.80.9', '147.32.87.11']\n",
    "\n",
    "df_dict = {}\n",
    "for ip in botnet_IPs:\n",
    "    df_dict[ip] = df[df['SrcIPAddr']==ip]\n",
    "print(df_dict.keys())\n",
    "\n",
    "df_dict_normal = {}\n",
    "for ip in normal_IPs:\n",
    "    df_dict_normal[ip] = df[df['SrcIPAddr']==ip]\n",
    "print(df_dict_normal.keys())\n",
    "\n",
    "\n"
   ]
  },
  {
   "cell_type": "code",
   "execution_count": 38,
   "metadata": {},
   "outputs": [
    {
     "data": {
      "image/png": "[encoded data removed]",
      "text/plain": [
       "<Figure size 432x288 with 1 Axes>"
      ]
     },
     "metadata": {},
     "output_type": "display_data"
    },
    {
     "data": {
      "image/png": "[encoded data removed]",
      "text/plain": [
       "<Figure size 432x288 with 1 Axes>"
      ]
     },
     "metadata": {},
     "output_type": "display_data"
    },
    {
     "data": {
      "image/png": "[encoded data removed]",
      "text/plain": [
       "<Figure size 432x288 with 1 Axes>"
      ]
     },
     "metadata": {},
     "output_type": "display_data"
    }
   ],
   "source": [
    "df = df[df['SrcIPAddr']=='147.32.84.165']\n",
    "\n",
    "#clusters numerical\n",
    "df_numerical = df[['Durat', 'Packets', 'Bytes']]\n",
    "Nc = range(1, 10)\n",
    "kmeans = [KMeans(n_clusters=i) for i in Nc]\n",
    "for column in df_numerical:\n",
    "    X = df_numerical[column].values.reshape(-1, 1)\n",
    "    score = [kmeans[i].fit(X).score(X) for i in range(len(kmeans))]\n",
    "    plt.plot(Nc,score)\n",
    "    plt.xlabel('Number of Clusters')\n",
    "    plt.ylabel('Score')\n",
    "    plt.title('Elbow Curve '+str(column))\n",
    "    plt.show()"
   ]
  },
  {
   "cell_type": "code",
   "execution_count": 44,
   "metadata": {},
   "outputs": [
    {
     "data": {
      "text/html": [
       "<div>\n",
       "<style scoped>\n",
       "    .dataframe tbody tr th:only-of-type {\n",
       "        vertical-align: middle;\n",
       "    }\n",
       "\n",
       "    .dataframe tbody tr th {\n",
       "        vertical-align: top;\n",
       "    }\n",
       "\n",
       "    .dataframe thead th {\n",
       "        text-align: right;\n",
       "    }\n",
       "</style>\n",
       "<table border=\"1\" class=\"dataframe\">\n",
       "  <thead>\n",
       "    <tr style=\"text-align: right;\">\n",
       "      <th></th>\n",
       "      <th>Durat</th>\n",
       "      <th>Packets</th>\n",
       "      <th>Bytes</th>\n",
       "    </tr>\n",
       "  </thead>\n",
       "  <tbody>\n",
       "    <tr>\n",
       "      <th>299473</th>\n",
       "      <td>0</td>\n",
       "      <td>0</td>\n",
       "      <td>0</td>\n",
       "    </tr>\n",
       "    <tr>\n",
       "      <th>300156</th>\n",
       "      <td>0</td>\n",
       "      <td>0</td>\n",
       "      <td>0</td>\n",
       "    </tr>\n",
       "    <tr>\n",
       "      <th>300159</th>\n",
       "      <td>0</td>\n",
       "      <td>1</td>\n",
       "      <td>1</td>\n",
       "    </tr>\n",
       "    <tr>\n",
       "      <th>300735</th>\n",
       "      <td>0</td>\n",
       "      <td>0</td>\n",
       "      <td>0</td>\n",
       "    </tr>\n",
       "    <tr>\n",
       "      <th>300740</th>\n",
       "      <td>1</td>\n",
       "      <td>0</td>\n",
       "      <td>0</td>\n",
       "    </tr>\n",
       "  </tbody>\n",
       "</table>\n",
       "</div>"
      ],
      "text/plain": [
       "        Durat  Packets  Bytes\n",
       "299473      0        0      0\n",
       "300156      0        0      0\n",
       "300159      0        1      1\n",
       "300735      0        0      0\n",
       "300740      1        0      0"
      ]
     },
     "execution_count": 44,
     "metadata": {},
     "output_type": "execute_result"
    }
   ],
   "source": [
    "#elbow value identified from the above graphs\n",
    "def get_elbows(df_numerical):\n",
    "    elbow = {'Durat': 2, 'Packets': 3, 'Bytes': 3}\n",
    "    for column in df_numerical:\n",
    "        X = df_numerical[column].values.reshape(-1, 1)\n",
    "        kmeans = KMeans(n_clusters=elbow[column], random_state=0).fit(X)\n",
    "        df_numerical[column] = kmeans.labels_\n",
    "    return df_numerical\n",
    "\n",
    "get_elbows(df_numerical)\n",
    "    \n",
    "df_numerical.head()"
   ]
  },
  {
   "cell_type": "code",
   "execution_count": 13,
   "metadata": {},
   "outputs": [
    {
     "name": "stderr",
     "output_type": "stream",
     "text": [
      "C:\\Users\\Anna\\AppData\\Local\\Programs\\Python\\Python36-32\\lib\\site-packages\\ipykernel_launcher.py:5: SettingWithCopyWarning: \n",
      "A value is trying to be set on a copy of a slice from a DataFrame.\n",
      "Try using .loc[row_indexer,col_indexer] = value instead\n",
      "\n",
      "See the caveats in the documentation: http://pandas.pydata.org/pandas-docs/stable/indexing.html#indexing-view-versus-copy\n",
      "  \"\"\"\n"
     ]
    },
    {
     "data": {
      "text/html": [
       "<div>\n",
       "<style scoped>\n",
       "    .dataframe tbody tr th:only-of-type {\n",
       "        vertical-align: middle;\n",
       "    }\n",
       "\n",
       "    .dataframe tbody tr th {\n",
       "        vertical-align: top;\n",
       "    }\n",
       "\n",
       "    .dataframe thead th {\n",
       "        text-align: right;\n",
       "    }\n",
       "</style>\n",
       "<table border=\"1\" class=\"dataframe\">\n",
       "  <thead>\n",
       "    <tr style=\"text-align: right;\">\n",
       "      <th></th>\n",
       "      <th>Prot</th>\n",
       "      <th>Flags</th>\n",
       "      <th>Tos</th>\n",
       "      <th>SrcIPPort</th>\n",
       "      <th>DstIPAddr</th>\n",
       "      <th>DstIPPort</th>\n",
       "    </tr>\n",
       "  </thead>\n",
       "  <tbody>\n",
       "    <tr>\n",
       "      <th>299473</th>\n",
       "      <td>0</td>\n",
       "      <td>0</td>\n",
       "      <td>0</td>\n",
       "      <td>0</td>\n",
       "      <td>0</td>\n",
       "      <td>0</td>\n",
       "    </tr>\n",
       "    <tr>\n",
       "      <th>300156</th>\n",
       "      <td>0</td>\n",
       "      <td>0</td>\n",
       "      <td>0</td>\n",
       "      <td>0</td>\n",
       "      <td>0</td>\n",
       "      <td>0</td>\n",
       "    </tr>\n",
       "    <tr>\n",
       "      <th>300159</th>\n",
       "      <td>1</td>\n",
       "      <td>1</td>\n",
       "      <td>0</td>\n",
       "      <td>1</td>\n",
       "      <td>1</td>\n",
       "      <td>1</td>\n",
       "    </tr>\n",
       "    <tr>\n",
       "      <th>300735</th>\n",
       "      <td>0</td>\n",
       "      <td>0</td>\n",
       "      <td>0</td>\n",
       "      <td>0</td>\n",
       "      <td>0</td>\n",
       "      <td>0</td>\n",
       "    </tr>\n",
       "    <tr>\n",
       "      <th>300740</th>\n",
       "      <td>0</td>\n",
       "      <td>0</td>\n",
       "      <td>0</td>\n",
       "      <td>2</td>\n",
       "      <td>2</td>\n",
       "      <td>2</td>\n",
       "    </tr>\n",
       "  </tbody>\n",
       "</table>\n",
       "</div>"
      ],
      "text/plain": [
       "        Prot  Flags  Tos  SrcIPPort  DstIPAddr  DstIPPort\n",
       "299473     0      0    0          0          0          0\n",
       "300156     0      0    0          0          0          0\n",
       "300159     1      1    0          1          1          1\n",
       "300735     0      0    0          0          0          0\n",
       "300740     0      0    0          2          2          2"
      ]
     },
     "execution_count": 13,
     "metadata": {},
     "output_type": "execute_result"
    }
   ],
   "source": [
    "#clusters text\n",
    "df_text = df[['Prot', 'Flags', 'Tos', 'SrcIPPort', 'DstIPAddr', 'DstIPPort']] \n",
    "for column in df_text:\n",
    "    labels, levels = pd.factorize(df_text[column])\n",
    "    df_text[column] = labels\n",
    "\n",
    "df_text.head()"
   ]
  },
  {
   "cell_type": "code",
   "execution_count": 14,
   "metadata": {},
   "outputs": [
    {
     "data": {
      "text/html": [
       "<div>\n",
       "<style scoped>\n",
       "    .dataframe tbody tr th:only-of-type {\n",
       "        vertical-align: middle;\n",
       "    }\n",
       "\n",
       "    .dataframe tbody tr th {\n",
       "        vertical-align: top;\n",
       "    }\n",
       "\n",
       "    .dataframe thead th {\n",
       "        text-align: right;\n",
       "    }\n",
       "</style>\n",
       "<table border=\"1\" class=\"dataframe\">\n",
       "  <thead>\n",
       "    <tr style=\"text-align: right;\">\n",
       "      <th></th>\n",
       "      <th>Prot</th>\n",
       "      <th>Bytes</th>\n",
       "    </tr>\n",
       "  </thead>\n",
       "  <tbody>\n",
       "    <tr>\n",
       "      <th>299473</th>\n",
       "      <td>0</td>\n",
       "      <td>0</td>\n",
       "    </tr>\n",
       "    <tr>\n",
       "      <th>300156</th>\n",
       "      <td>0</td>\n",
       "      <td>0</td>\n",
       "    </tr>\n",
       "    <tr>\n",
       "      <th>300159</th>\n",
       "      <td>1</td>\n",
       "      <td>1</td>\n",
       "    </tr>\n",
       "    <tr>\n",
       "      <th>300735</th>\n",
       "      <td>0</td>\n",
       "      <td>0</td>\n",
       "    </tr>\n",
       "    <tr>\n",
       "      <th>300740</th>\n",
       "      <td>0</td>\n",
       "      <td>0</td>\n",
       "    </tr>\n",
       "  </tbody>\n",
       "</table>\n",
       "</div>"
      ],
      "text/plain": [
       "        Prot  Bytes\n",
       "299473     0      0\n",
       "300156     0      0\n",
       "300159     1      1\n",
       "300735     0      0\n",
       "300740     0      0"
      ]
     },
     "execution_count": 14,
     "metadata": {},
     "output_type": "execute_result"
    }
   ],
   "source": [
    "df_discrete = pd.concat([df_text, df_numerical], axis=1)\n",
    "df_discrete = df_discrete[['Prot','Bytes']]\n",
    "code = 0\n",
    "spaceSize = 1\n",
    "for column in df_discrete:\n",
    "    spaceSize = spaceSize * df_discrete[column].value_counts(dropna=True).count()\n",
    "\n",
    "df_discrete.head()"
   ]
  },
  {
   "cell_type": "code",
   "execution_count": 15,
   "metadata": {},
   "outputs": [
    {
     "data": {
      "text/html": [
       "<div>\n",
       "<style scoped>\n",
       "    .dataframe tbody tr th:only-of-type {\n",
       "        vertical-align: middle;\n",
       "    }\n",
       "\n",
       "    .dataframe tbody tr th {\n",
       "        vertical-align: top;\n",
       "    }\n",
       "\n",
       "    .dataframe thead th {\n",
       "        text-align: right;\n",
       "    }\n",
       "</style>\n",
       "<table border=\"1\" class=\"dataframe\">\n",
       "  <thead>\n",
       "    <tr style=\"text-align: right;\">\n",
       "      <th></th>\n",
       "      <th>Prot</th>\n",
       "      <th>Bytes</th>\n",
       "      <th>codes</th>\n",
       "      <th>SrcIPAddr</th>\n",
       "      <th>Label</th>\n",
       "    </tr>\n",
       "  </thead>\n",
       "  <tbody>\n",
       "    <tr>\n",
       "      <th>299473</th>\n",
       "      <td>0</td>\n",
       "      <td>0</td>\n",
       "      <td>0.0</td>\n",
       "      <td>147.32.84.165</td>\n",
       "      <td>Botnet</td>\n",
       "    </tr>\n",
       "    <tr>\n",
       "      <th>300156</th>\n",
       "      <td>0</td>\n",
       "      <td>0</td>\n",
       "      <td>0.0</td>\n",
       "      <td>147.32.84.165</td>\n",
       "      <td>Botnet</td>\n",
       "    </tr>\n",
       "    <tr>\n",
       "      <th>300159</th>\n",
       "      <td>1</td>\n",
       "      <td>1</td>\n",
       "      <td>4.0</td>\n",
       "      <td>147.32.84.165</td>\n",
       "      <td>Botnet</td>\n",
       "    </tr>\n",
       "    <tr>\n",
       "      <th>300735</th>\n",
       "      <td>0</td>\n",
       "      <td>0</td>\n",
       "      <td>0.0</td>\n",
       "      <td>147.32.84.165</td>\n",
       "      <td>Botnet</td>\n",
       "    </tr>\n",
       "    <tr>\n",
       "      <th>300740</th>\n",
       "      <td>0</td>\n",
       "      <td>0</td>\n",
       "      <td>0.0</td>\n",
       "      <td>147.32.84.165</td>\n",
       "      <td>Botnet</td>\n",
       "    </tr>\n",
       "  </tbody>\n",
       "</table>\n",
       "</div>"
      ],
      "text/plain": [
       "        Prot  Bytes  codes      SrcIPAddr   Label\n",
       "299473     0      0    0.0  147.32.84.165  Botnet\n",
       "300156     0      0    0.0  147.32.84.165  Botnet\n",
       "300159     1      1    4.0  147.32.84.165  Botnet\n",
       "300735     0      0    0.0  147.32.84.165  Botnet\n",
       "300740     0      0    0.0  147.32.84.165  Botnet"
      ]
     },
     "execution_count": 15,
     "metadata": {},
     "output_type": "execute_result"
    }
   ],
   "source": [
    "\n",
    "codes = np.array([])\n",
    "spaceSizeCurrent = spaceSize\n",
    "for index, row in df_discrete.iterrows():\n",
    "    for column in df_discrete:\n",
    "        if (row[column] >= 0):\n",
    "            code  = code + (row[column] * spaceSizeCurrent / df_discrete[column].value_counts(dropna=True).count())\n",
    "            spaceSizeCurrent =  spaceSizeCurrent / df_discrete[column].value_counts(dropna=True).count()\n",
    "\n",
    "    codes = np.append(codes,code)\n",
    "    spaceSizeCurrent = spaceSize\n",
    "    code = 0\n",
    "\n",
    "\n",
    "df_discrete['codes'] = codes\n",
    "df = pd.concat([df_discrete,df[['SrcIPAddr','Label']]], axis=1)\n",
    "df.head()"
   ]
  },
  {
   "cell_type": "code",
   "execution_count": 18,
   "metadata": {},
   "outputs": [
    {
     "data": {
      "text/plain": [
       "[<matplotlib.lines.Line2D at 0x1c2d1d90>]"
      ]
     },
     "execution_count": 18,
     "metadata": {},
     "output_type": "execute_result"
    },
    {
     "data": {
      "image/png": "[encoded data removed]",
      "text/plain": [
       "<Figure size 432x288 with 1 Axes>"
      ]
     },
     "metadata": {},
     "output_type": "display_data"
    }
   ],
   "source": [
    "plt.plot(df['codes'])"
   ]
  },
  {
   "cell_type": "code",
   "execution_count": 45,
   "metadata": {},
   "outputs": [],
   "source": [
    "def discretize(df):\n",
    "    df_numerical = df[['Durat', 'Packets', 'Bytes']]\n",
    "    df_numerical = get_elbows(df_numerical)\n",
    "    df_text = df[['Prot', 'Flags', 'Tos', 'SrcIPPort', 'DstIPAddr', 'DstIPPort']] \n",
    "    for column in df_text:\n",
    "        labels, levels = pd.factorize(df_text[column])\n",
    "        df_text[column] = labels\n",
    "\n",
    "    df_discrete = pd.concat([df_text, df_numerical], axis=1)\n",
    "    df_discrete = df_discrete[['Prot','Bytes']]\n",
    "    code = 0\n",
    "    spaceSize = 1\n",
    "    for column in df_discrete:\n",
    "        spaceSize = spaceSize * df_discrete[column].value_counts(dropna=True).count()\n",
    "\n",
    "    codes = np.array([])\n",
    "    spaceSizeCurrent = spaceSize\n",
    "    for index, row in df_discrete.iterrows():\n",
    "        for column in df_discrete:\n",
    "            if (row[column] >= 0):\n",
    "                code  = code + (row[column] * spaceSizeCurrent / df_discrete[column].value_counts(dropna=True).count())\n",
    "                spaceSizeCurrent =  spaceSizeCurrent / df_discrete[column].value_counts(dropna=True).count()\n",
    "\n",
    "        codes = np.append(codes,code)\n",
    "        spaceSizeCurrent = spaceSize\n",
    "        code = 0\n",
    "\n",
    "\n",
    "    df_discrete['codes'] = codes\n",
    "    df = pd.concat([df_discrete,df[['SrcIPAddr','Label']]], axis=1)\n",
    "    return df"
   ]
  },
  {
   "cell_type": "code",
   "execution_count": 83,
   "metadata": {},
   "outputs": [
    {
     "name": "stderr",
     "output_type": "stream",
     "text": [
      "C:\\Users\\Anna\\AppData\\Local\\Programs\\Python\\Python36-32\\lib\\site-packages\\ipykernel_launcher.py:7: SettingWithCopyWarning: \n",
      "A value is trying to be set on a copy of a slice from a DataFrame.\n",
      "Try using .loc[row_indexer,col_indexer] = value instead\n",
      "\n",
      "See the caveats in the documentation: http://pandas.pydata.org/pandas-docs/stable/indexing.html#indexing-view-versus-copy\n",
      "  import sys\n"
     ]
    }
   ],
   "source": [
    "discret_df = {}\n",
    "for key, value in df_dict.items():\n",
    "    discret_df[key] = discretize(value)\n",
    "    \n",
    "discret_df_normal = {}\n",
    "for key, value in df_dict_normal.items():\n",
    "    discret_df_normal[key] = discretize(value)"
   ]
  },
  {
   "cell_type": "code",
   "execution_count": 72,
   "metadata": {},
   "outputs": [],
   "source": [
    "def n_gram_model(n_grams):\n",
    "    model = dict.fromkeys(n_grams)\n",
    "\n",
    "    for i in range(len(n_grams)-1):\n",
    "        if model[n_grams[i]] is None:\n",
    "            model[n_grams[i]] = {}\n",
    "        if n_grams[i+1] not in model[n_grams[i]]:\n",
    "            model[n_grams[i]][n_grams[i+1]] = 0\n",
    "        model[n_grams[i]][n_grams[i + 1]] += 1\n",
    "\n",
    "    for key in model:\n",
    "        if model[key] is None:\n",
    "            continue\n",
    "        total_count = float(sum(model[key].values()))\n",
    "        for w2 in model[key]:\n",
    "            model[key][w2] /= total_count\n",
    "\n",
    "    return model\n",
    "\n",
    "def n_gram_predict(model, n_grams, threshold):\n",
    "    probalilites = []\n",
    "    true_prob = []\n",
    "    for i in range(len(n_grams)-1):\n",
    "        if n_grams[i] not in model or n_grams[i+1] not in model[n_grams[i]]:\n",
    "            prob = 0\n",
    "        else:\n",
    "            prob = model[n_grams[i]][n_grams[i+1]]\n",
    "        if prob > threshold:\n",
    "            true_prob.append(prob)\n",
    "            probalilites.append(1)\n",
    "        else:\n",
    "            probalilites.append(0)\n",
    "#     print(true_prob)\n",
    "    return np.array(probalilites).transpose()"
   ]
  },
  {
   "cell_type": "code",
   "execution_count": 73,
   "metadata": {},
   "outputs": [
    {
     "name": "stdout",
     "output_type": "stream",
     "text": [
      "{0.0: {0.0: 0.5454545454545454, 4.0: 0.2727272727272727, 3.0: 0.09090909090909091, 5.0: 0.09090909090909091}, 4.0: {0.0: 0.5, 5.0: 0.5}, 3.0: {3.0: 0.9696969696969697, 0.0: 0.020202020202020204, 5.0: 0.010101010101010102}, 5.0: {3.0: 0.75, 4.0: 0.25}}\n"
     ]
    }
   ],
   "source": [
    "model = n_gram_model(discret_df[botnet_IPs[0]]['codes'].values)\n",
    "print(model)"
   ]
  },
  {
   "cell_type": "code",
   "execution_count": 90,
   "metadata": {},
   "outputs": [
    {
     "data": {
      "text/plain": [
       "array([1, 0, 1, 1, 1, 0, 1, 1, 1, 1, 1, 1, 1, 1, 1, 1, 1, 1, 1, 1, 1, 1,\n",
       "       1, 1, 1, 1, 1, 1, 1, 1, 1, 1, 1, 1, 1, 1, 1, 1, 1, 1, 1, 1, 1, 1,\n",
       "       1, 1, 1, 1, 1, 1, 1, 1, 1, 1, 1, 1, 1, 1, 1, 1, 1, 1, 1, 1, 1, 1,\n",
       "       1, 1, 1, 1, 1, 1, 1, 1, 1, 1, 1, 1, 1, 1, 1, 1, 1, 1, 1, 1, 1, 0,\n",
       "       0, 1, 1, 1, 1, 1, 0, 1, 0, 1, 1, 1])"
      ]
     },
     "execution_count": 90,
     "metadata": {},
     "output_type": "execute_result"
    }
   ],
   "source": [
    "test_model = discret_df[botnet_IPs[1]]['codes'].values\n",
    "prob = n_gram_predict(model, test_model, 0.4)\n",
    "prob"
   ]
  },
  {
   "cell_type": "code",
   "execution_count": 92,
   "metadata": {},
   "outputs": [
    {
     "name": "stdout",
     "output_type": "stream",
     "text": [
      "754\n",
      "664\n"
     ]
    }
   ],
   "source": [
    "test_model = discret_df_normal[normal_IPs[1]]['codes'].values\n",
    "prob = n_gram_predict(model, test_model, 0.4)\n",
    "print(len(prob))\n",
    "print(sum(prob==1))"
   ]
  },
  {
   "cell_type": "code",
   "execution_count": null,
   "metadata": {},
   "outputs": [],
   "source": []
  }
 ],
 "metadata": {
  "kernelspec": {
   "display_name": "Python 3",
   "language": "python",
   "name": "python3"
  },
  "language_info": {
   "codemirror_mode": {
    "name": "ipython",
    "version": 3
   },
   "file_extension": ".py",
   "mimetype": "text/x-python",
   "name": "python",
   "nbconvert_exporter": "python",
   "pygments_lexer": "ipython3",
   "version": "3.6.4"
  }
 },
 "nbformat": 4,
 "nbformat_minor": 2
}
