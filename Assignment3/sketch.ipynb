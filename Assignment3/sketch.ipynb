{
 "cells": [
  {
   "cell_type": "code",
   "execution_count": 40,
   "metadata": {},
   "outputs": [],
   "source": [
    "import pandas as pd\n",
    "import matplotlib.pyplot as plt\n",
    "import seaborn as sns\n",
    "import random\n",
    "import numpy as np\n",
    "import socket, struct\n",
    "import netaddr\n",
    "\n",
    "%matplotlib inline"
   ]
  },
  {
   "cell_type": "code",
   "execution_count": 30,
   "metadata": {},
   "outputs": [
    {
     "name": "stderr",
     "output_type": "stream",
     "text": [
      "C:\\Users\\Anna\\AppData\\Local\\Programs\\Python\\Python36-32\\lib\\site-packages\\IPython\\core\\interactiveshell.py:2785: DtypeWarning: Columns (13) have mixed types. Specify dtype option on import or set low_memory=False.\n",
      "  interactivity=interactivity, compiler=compiler, result=result)\n"
     ]
    },
    {
     "data": {
      "text/html": [
       "<div>\n",
       "<style scoped>\n",
       "    .dataframe tbody tr th:only-of-type {\n",
       "        vertical-align: middle;\n",
       "    }\n",
       "\n",
       "    .dataframe tbody tr th {\n",
       "        vertical-align: top;\n",
       "    }\n",
       "\n",
       "    .dataframe thead th {\n",
       "        text-align: right;\n",
       "    }\n",
       "</style>\n",
       "<table border=\"1\" class=\"dataframe\">\n",
       "  <thead>\n",
       "    <tr style=\"text-align: right;\">\n",
       "      <th></th>\n",
       "      <th>Date</th>\n",
       "      <th>Flow_start</th>\n",
       "      <th>Durat</th>\n",
       "      <th>Prot</th>\n",
       "      <th>SrcIPAddr:Port</th>\n",
       "      <th>tmp</th>\n",
       "      <th>DstIPAddr:Port</th>\n",
       "      <th>Flags</th>\n",
       "      <th>Tos</th>\n",
       "      <th>Packets</th>\n",
       "      <th>Bytes</th>\n",
       "      <th>Flows</th>\n",
       "      <th>Label</th>\n",
       "      <th>Labels</th>\n",
       "      <th>SrcIPAddr</th>\n",
       "      <th>SrcIPPort</th>\n",
       "      <th>DstIPAddr</th>\n",
       "      <th>DstIPPort</th>\n",
       "    </tr>\n",
       "  </thead>\n",
       "  <tbody>\n",
       "    <tr>\n",
       "      <th>0</th>\n",
       "      <td>2011-08-15</td>\n",
       "      <td>16:43:20.931</td>\n",
       "      <td>0.235</td>\n",
       "      <td>TCP</td>\n",
       "      <td>147.32.84.59:64131</td>\n",
       "      <td>-&gt;</td>\n",
       "      <td>164.8.32.159:54992</td>\n",
       "      <td>PA_</td>\n",
       "      <td>0</td>\n",
       "      <td>3</td>\n",
       "      <td>211</td>\n",
       "      <td>1</td>\n",
       "      <td>Background</td>\n",
       "      <td>NaN</td>\n",
       "      <td>147.32.84.59</td>\n",
       "      <td>64131</td>\n",
       "      <td>164.8.32.159</td>\n",
       "      <td>54992</td>\n",
       "    </tr>\n",
       "    <tr>\n",
       "      <th>1</th>\n",
       "      <td>2011-08-15</td>\n",
       "      <td>16:43:20.933</td>\n",
       "      <td>0.444</td>\n",
       "      <td>TCP</td>\n",
       "      <td>147.32.87.252:49218</td>\n",
       "      <td>-&gt;</td>\n",
       "      <td>147.32.80.13:3128</td>\n",
       "      <td>FPA_</td>\n",
       "      <td>0</td>\n",
       "      <td>300</td>\n",
       "      <td>19566</td>\n",
       "      <td>1</td>\n",
       "      <td>LEGITIMATE</td>\n",
       "      <td>NaN</td>\n",
       "      <td>147.32.87.252</td>\n",
       "      <td>49218</td>\n",
       "      <td>147.32.80.13</td>\n",
       "      <td>3128</td>\n",
       "    </tr>\n",
       "    <tr>\n",
       "      <th>2</th>\n",
       "      <td>2011-08-15</td>\n",
       "      <td>16:43:20.933</td>\n",
       "      <td>4.993</td>\n",
       "      <td>TCP</td>\n",
       "      <td>41.143.58.184:1328</td>\n",
       "      <td>-&gt;</td>\n",
       "      <td>147.32.86.179:58675</td>\n",
       "      <td>PA_</td>\n",
       "      <td>0</td>\n",
       "      <td>269</td>\n",
       "      <td>29373</td>\n",
       "      <td>1</td>\n",
       "      <td>Background</td>\n",
       "      <td>NaN</td>\n",
       "      <td>41.143.58.184</td>\n",
       "      <td>1328</td>\n",
       "      <td>147.32.86.179</td>\n",
       "      <td>58675</td>\n",
       "    </tr>\n",
       "    <tr>\n",
       "      <th>3</th>\n",
       "      <td>2011-08-15</td>\n",
       "      <td>16:43:20.933</td>\n",
       "      <td>0.187</td>\n",
       "      <td>TCP</td>\n",
       "      <td>147.32.86.155:51273</td>\n",
       "      <td>-&gt;</td>\n",
       "      <td>204.154.94.81:80</td>\n",
       "      <td>FA_</td>\n",
       "      <td>0</td>\n",
       "      <td>2</td>\n",
       "      <td>132</td>\n",
       "      <td>1</td>\n",
       "      <td>Background</td>\n",
       "      <td>NaN</td>\n",
       "      <td>147.32.86.155</td>\n",
       "      <td>51273</td>\n",
       "      <td>204.154.94.81</td>\n",
       "      <td>80</td>\n",
       "    </tr>\n",
       "    <tr>\n",
       "      <th>4</th>\n",
       "      <td>2011-08-15</td>\n",
       "      <td>16:43:20.933</td>\n",
       "      <td>0.442</td>\n",
       "      <td>TCP</td>\n",
       "      <td>147.32.80.13:3128</td>\n",
       "      <td>-&gt;</td>\n",
       "      <td>147.32.87.252:49218</td>\n",
       "      <td>FPA_</td>\n",
       "      <td>0</td>\n",
       "      <td>579</td>\n",
       "      <td>728343</td>\n",
       "      <td>1</td>\n",
       "      <td>LEGITIMATE</td>\n",
       "      <td>NaN</td>\n",
       "      <td>147.32.80.13</td>\n",
       "      <td>3128</td>\n",
       "      <td>147.32.87.252</td>\n",
       "      <td>49218</td>\n",
       "    </tr>\n",
       "  </tbody>\n",
       "</table>\n",
       "</div>"
      ],
      "text/plain": [
       "         Date    Flow_start  Durat Prot       SrcIPAddr:Port tmp  \\\n",
       "0  2011-08-15  16:43:20.931  0.235  TCP   147.32.84.59:64131  ->   \n",
       "1  2011-08-15  16:43:20.933  0.444  TCP  147.32.87.252:49218  ->   \n",
       "2  2011-08-15  16:43:20.933  4.993  TCP   41.143.58.184:1328  ->   \n",
       "3  2011-08-15  16:43:20.933  0.187  TCP  147.32.86.155:51273  ->   \n",
       "4  2011-08-15  16:43:20.933  0.442  TCP    147.32.80.13:3128  ->   \n",
       "\n",
       "        DstIPAddr:Port Flags  Tos  Packets   Bytes  Flows       Label Labels  \\\n",
       "0   164.8.32.159:54992   PA_    0        3     211      1  Background    NaN   \n",
       "1    147.32.80.13:3128  FPA_    0      300   19566      1  LEGITIMATE    NaN   \n",
       "2  147.32.86.179:58675   PA_    0      269   29373      1  Background    NaN   \n",
       "3     204.154.94.81:80   FA_    0        2     132      1  Background    NaN   \n",
       "4  147.32.87.252:49218  FPA_    0      579  728343      1  LEGITIMATE    NaN   \n",
       "\n",
       "       SrcIPAddr SrcIPPort      DstIPAddr DstIPPort  \n",
       "0   147.32.84.59     64131   164.8.32.159     54992  \n",
       "1  147.32.87.252     49218   147.32.80.13      3128  \n",
       "2  41.143.58.184      1328  147.32.86.179     58675  \n",
       "3  147.32.86.155     51273  204.154.94.81        80  \n",
       "4   147.32.80.13      3128  147.32.87.252     49218  "
      ]
     },
     "execution_count": 30,
     "metadata": {},
     "output_type": "execute_result"
    }
   ],
   "source": [
    "df = pd.read_csv('capture20110815-2.pcap.netflow.labeled.csv')\n",
    "\n",
    "#preprocessing\n",
    "df = df[df['Prot']!='IPV6-ICMP']\n",
    "\n",
    "ips = df['SrcIPAddr:Port'].str.split(':')\n",
    "df['SrcIPAddr'] = ips.str[0]\n",
    "df['SrcIPPort'] = ips.str[-1]\n",
    "ips = df['DstIPAddr:Port'].str.split(':')\n",
    "df['DstIPAddr'] = ips.str[0]\n",
    "df['DstIPPort'] = ips.str[-1]\n",
    "df.head()"
   ]
  },
  {
   "cell_type": "code",
   "execution_count": 31,
   "metadata": {},
   "outputs": [],
   "source": [
    "def find_next_prime(n):\n",
    "    return find_prime_in_range(n, 2*n)\n",
    "\n",
    "def find_prime_in_range(a, b):\n",
    "    for p in range(a, b):\n",
    "        for i in range(2, p):\n",
    "            if p % i == 0:\n",
    "                break\n",
    "        else:\n",
    "            return p\n",
    "    return None"
   ]
  },
  {
   "cell_type": "code",
   "execution_count": 32,
   "metadata": {},
   "outputs": [
    {
     "name": "stdout",
     "output_type": "stream",
     "text": [
      "2000 7\n"
     ]
    }
   ],
   "source": [
    "w = int(np.ceil(2/0.001)) #amount of 'counters' within a hash function\n",
    "d = int(np.ceil(-np.log(1-0.99)/np.log(2))) #amount of hash functions\n",
    "print(w, d)"
   ]
  },
  {
   "cell_type": "code",
   "execution_count": 33,
   "metadata": {},
   "outputs": [
    {
     "name": "stdout",
     "output_type": "stream",
     "text": [
      "[308038. 206018. 385007. 190052.  57502.   3821. 302117.] [  3694. 209163. 381560. 275987. 163516. 129905. 307841.]\n"
     ]
    }
   ],
   "source": [
    "c = len(df)#find_next_prime(len(df))\n",
    "#generating d hash functions of format: h(x) = (ax+b)%c\n",
    "a = np.zeros(d)\n",
    "b = np.zeros(d)\n",
    "for i in range(d):\n",
    "    a[i] = np.random.randint(low=1, high=len(df))\n",
    "    b[i] = np.random.randint(low=1, high=len(df))\n",
    "    \n",
    "print(a, b)"
   ]
  },
  {
   "cell_type": "code",
   "execution_count": 34,
   "metadata": {},
   "outputs": [],
   "source": [
    "def ip2long(ip):\n",
    "    \"\"\"\n",
    "    Convert an IP string to long\n",
    "    \"\"\"\n",
    "    try:\n",
    "        packedIP = socket.inet_aton(ip)\n",
    "    except OSError:\n",
    "        print(ip)\n",
    "    return struct.unpack(\"!L\", packedIP)[0]"
   ]
  },
  {
   "cell_type": "code",
   "execution_count": 41,
   "metadata": {},
   "outputs": [],
   "source": [
    "ip = netaddr.IPAddress('192.168.1.1')"
   ]
  },
  {
   "cell_type": "code",
   "execution_count": 42,
   "metadata": {},
   "outputs": [
    {
     "ename": "AddrFormatError",
     "evalue": "failed to detect a valid IP address from 'fe80'",
     "output_type": "error",
     "traceback": [
      "\u001b[1;31m---------------------------------------------------------------------------\u001b[0m",
      "\u001b[1;31mAddrFormatError\u001b[0m                           Traceback (most recent call last)",
      "\u001b[1;32m<ipython-input-42-4f076e185abf>\u001b[0m in \u001b[0;36m<module>\u001b[1;34m()\u001b[0m\n\u001b[1;32m----> 1\u001b[1;33m \u001b[0mdf\u001b[0m\u001b[1;33m[\u001b[0m\u001b[1;34m'ip_long'\u001b[0m\u001b[1;33m]\u001b[0m \u001b[1;33m=\u001b[0m \u001b[0mdf\u001b[0m\u001b[1;33m[\u001b[0m\u001b[1;34m'SrcIPAddr'\u001b[0m\u001b[1;33m]\u001b[0m\u001b[1;33m.\u001b[0m\u001b[0mapply\u001b[0m\u001b[1;33m(\u001b[0m\u001b[1;32mlambda\u001b[0m \u001b[0mx\u001b[0m\u001b[1;33m:\u001b[0m \u001b[0mnetaddr\u001b[0m\u001b[1;33m.\u001b[0m\u001b[0mIPAddress\u001b[0m\u001b[1;33m(\u001b[0m\u001b[0mx\u001b[0m\u001b[1;33m)\u001b[0m\u001b[1;33m.\u001b[0m\u001b[0mvalue\u001b[0m\u001b[1;33m)\u001b[0m\u001b[1;33m\u001b[0m\u001b[0m\n\u001b[0m\u001b[0;32m      2\u001b[0m \u001b[1;31m# >>> ip.value)\u001b[0m\u001b[1;33m\u001b[0m\u001b[1;33m\u001b[0m\u001b[0m\n",
      "\u001b[1;32m~\\AppData\\Local\\Programs\\Python\\Python36-32\\lib\\site-packages\\pandas\\core\\series.py\u001b[0m in \u001b[0;36mapply\u001b[1;34m(self, func, convert_dtype, args, **kwds)\u001b[0m\n\u001b[0;32m   2549\u001b[0m             \u001b[1;32melse\u001b[0m\u001b[1;33m:\u001b[0m\u001b[1;33m\u001b[0m\u001b[0m\n\u001b[0;32m   2550\u001b[0m                 \u001b[0mvalues\u001b[0m \u001b[1;33m=\u001b[0m \u001b[0mself\u001b[0m\u001b[1;33m.\u001b[0m\u001b[0masobject\u001b[0m\u001b[1;33m\u001b[0m\u001b[0m\n\u001b[1;32m-> 2551\u001b[1;33m                 \u001b[0mmapped\u001b[0m \u001b[1;33m=\u001b[0m \u001b[0mlib\u001b[0m\u001b[1;33m.\u001b[0m\u001b[0mmap_infer\u001b[0m\u001b[1;33m(\u001b[0m\u001b[0mvalues\u001b[0m\u001b[1;33m,\u001b[0m \u001b[0mf\u001b[0m\u001b[1;33m,\u001b[0m \u001b[0mconvert\u001b[0m\u001b[1;33m=\u001b[0m\u001b[0mconvert_dtype\u001b[0m\u001b[1;33m)\u001b[0m\u001b[1;33m\u001b[0m\u001b[0m\n\u001b[0m\u001b[0;32m   2552\u001b[0m \u001b[1;33m\u001b[0m\u001b[0m\n\u001b[0;32m   2553\u001b[0m         \u001b[1;32mif\u001b[0m \u001b[0mlen\u001b[0m\u001b[1;33m(\u001b[0m\u001b[0mmapped\u001b[0m\u001b[1;33m)\u001b[0m \u001b[1;32mand\u001b[0m \u001b[0misinstance\u001b[0m\u001b[1;33m(\u001b[0m\u001b[0mmapped\u001b[0m\u001b[1;33m[\u001b[0m\u001b[1;36m0\u001b[0m\u001b[1;33m]\u001b[0m\u001b[1;33m,\u001b[0m \u001b[0mSeries\u001b[0m\u001b[1;33m)\u001b[0m\u001b[1;33m:\u001b[0m\u001b[1;33m\u001b[0m\u001b[0m\n",
      "\u001b[1;32mpandas/_libs/src\\inference.pyx\u001b[0m in \u001b[0;36mpandas._libs.lib.map_infer\u001b[1;34m()\u001b[0m\n",
      "\u001b[1;32m<ipython-input-42-4f076e185abf>\u001b[0m in \u001b[0;36m<lambda>\u001b[1;34m(x)\u001b[0m\n\u001b[1;32m----> 1\u001b[1;33m \u001b[0mdf\u001b[0m\u001b[1;33m[\u001b[0m\u001b[1;34m'ip_long'\u001b[0m\u001b[1;33m]\u001b[0m \u001b[1;33m=\u001b[0m \u001b[0mdf\u001b[0m\u001b[1;33m[\u001b[0m\u001b[1;34m'SrcIPAddr'\u001b[0m\u001b[1;33m]\u001b[0m\u001b[1;33m.\u001b[0m\u001b[0mapply\u001b[0m\u001b[1;33m(\u001b[0m\u001b[1;32mlambda\u001b[0m \u001b[0mx\u001b[0m\u001b[1;33m:\u001b[0m \u001b[0mnetaddr\u001b[0m\u001b[1;33m.\u001b[0m\u001b[0mIPAddress\u001b[0m\u001b[1;33m(\u001b[0m\u001b[0mx\u001b[0m\u001b[1;33m)\u001b[0m\u001b[1;33m.\u001b[0m\u001b[0mvalue\u001b[0m\u001b[1;33m)\u001b[0m\u001b[1;33m\u001b[0m\u001b[0m\n\u001b[0m\u001b[0;32m      2\u001b[0m \u001b[1;31m# >>> ip.value)\u001b[0m\u001b[1;33m\u001b[0m\u001b[1;33m\u001b[0m\u001b[0m\n",
      "\u001b[1;32m~\\AppData\\Local\\Programs\\Python\\Python36-32\\lib\\site-packages\\netaddr\\ip\\__init__.py\u001b[0m in \u001b[0;36m__init__\u001b[1;34m(self, addr, version, flags)\u001b[0m\n\u001b[0;32m    304\u001b[0m                 \u001b[1;32mif\u001b[0m \u001b[0mself\u001b[0m\u001b[1;33m.\u001b[0m\u001b[0m_module\u001b[0m \u001b[1;32mis\u001b[0m \u001b[1;32mNone\u001b[0m\u001b[1;33m:\u001b[0m\u001b[1;33m\u001b[0m\u001b[0m\n\u001b[0;32m    305\u001b[0m                     raise AddrFormatError('failed to detect a valid IP ' \\\n\u001b[1;32m--> 306\u001b[1;33m                         'address from %r' % addr)\n\u001b[0m\u001b[0;32m    307\u001b[0m             \u001b[1;32melse\u001b[0m\u001b[1;33m:\u001b[0m\u001b[1;33m\u001b[0m\u001b[0m\n\u001b[0;32m    308\u001b[0m                 \u001b[1;31m#   IP version is explicit.\u001b[0m\u001b[1;33m\u001b[0m\u001b[1;33m\u001b[0m\u001b[0m\n",
      "\u001b[1;31mAddrFormatError\u001b[0m: failed to detect a valid IP address from 'fe80'"
     ]
    }
   ],
   "source": [
    "df['ip_long'] = df['SrcIPAddr'].apply(lambda x: netaddr.IPAddress(x).value)\n",
    "# >>> ip.value)"
   ]
  },
  {
   "cell_type": "code",
   "execution_count": null,
   "metadata": {},
   "outputs": [],
   "source": []
  }
 ],
 "metadata": {
  "kernelspec": {
   "display_name": "Python 3",
   "language": "python",
   "name": "python3"
  },
  "language_info": {
   "codemirror_mode": {
    "name": "ipython",
    "version": 3
   },
   "file_extension": ".py",
   "mimetype": "text/x-python",
   "name": "python",
   "nbconvert_exporter": "python",
   "pygments_lexer": "ipython3",
   "version": "3.6.4"
  }
 },
 "nbformat": 4,
 "nbformat_minor": 2
}
