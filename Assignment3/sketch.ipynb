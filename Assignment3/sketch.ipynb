{
 "cells": [
  {
   "cell_type": "code",
   "execution_count": 13,
   "metadata": {},
   "outputs": [],
   "source": [
    "import pandas as pd\n",
    "import matplotlib.pyplot as plt\n",
    "import seaborn as sns\n",
    "import random\n",
    "import numpy as np\n",
    "import socket, struct\n",
    "import netaddr\n",
    "\n",
    "%matplotlib inline\n"
   ]
  },
  {
   "cell_type": "code",
   "execution_count": 28,
   "metadata": {},
   "outputs": [
    {
     "data": {
      "text/html": [
       "<div>\n",
       "<style scoped>\n",
       "    .dataframe tbody tr th:only-of-type {\n",
       "        vertical-align: middle;\n",
       "    }\n",
       "\n",
       "    .dataframe tbody tr th {\n",
       "        vertical-align: top;\n",
       "    }\n",
       "\n",
       "    .dataframe thead th {\n",
       "        text-align: right;\n",
       "    }\n",
       "</style>\n",
       "<table border=\"1\" class=\"dataframe\">\n",
       "  <thead>\n",
       "    <tr style=\"text-align: right;\">\n",
       "      <th></th>\n",
       "      <th>Date</th>\n",
       "      <th>Flow_start</th>\n",
       "      <th>Durat</th>\n",
       "      <th>Prot</th>\n",
       "      <th>SrcIPAddr:Port</th>\n",
       "      <th>tmp</th>\n",
       "      <th>DstIPAddr:Port</th>\n",
       "      <th>Flags</th>\n",
       "      <th>Tos</th>\n",
       "      <th>Packets</th>\n",
       "      <th>Bytes</th>\n",
       "      <th>Flows</th>\n",
       "      <th>Label</th>\n",
       "      <th>Labels</th>\n",
       "      <th>SrcIPAddr</th>\n",
       "      <th>SrcIPPort</th>\n",
       "      <th>DstIPAddr</th>\n",
       "      <th>DstIPPort</th>\n",
       "    </tr>\n",
       "  </thead>\n",
       "  <tbody>\n",
       "    <tr>\n",
       "      <th>0</th>\n",
       "      <td>2011-08-18</td>\n",
       "      <td>10:19:13.328</td>\n",
       "      <td>0.002</td>\n",
       "      <td>TCP</td>\n",
       "      <td>147.32.86.166:33426</td>\n",
       "      <td>-&gt;</td>\n",
       "      <td>212.24.150.110:25443</td>\n",
       "      <td>FRPA_</td>\n",
       "      <td>0</td>\n",
       "      <td>4</td>\n",
       "      <td>321</td>\n",
       "      <td>1</td>\n",
       "      <td>Background</td>\n",
       "      <td>NaN</td>\n",
       "      <td>212.24.150.110</td>\n",
       "      <td>25443</td>\n",
       "      <td>212.24.150.110</td>\n",
       "      <td>25443</td>\n",
       "    </tr>\n",
       "    <tr>\n",
       "      <th>1</th>\n",
       "      <td>2011-08-18</td>\n",
       "      <td>10:19:13.328</td>\n",
       "      <td>4.995</td>\n",
       "      <td>UDP</td>\n",
       "      <td>82.39.2.249:41915</td>\n",
       "      <td>-&gt;</td>\n",
       "      <td>147.32.84.59:43087</td>\n",
       "      <td>INT</td>\n",
       "      <td>0</td>\n",
       "      <td>617</td>\n",
       "      <td>40095</td>\n",
       "      <td>1</td>\n",
       "      <td>Background</td>\n",
       "      <td>NaN</td>\n",
       "      <td>147.32.84.59</td>\n",
       "      <td>43087</td>\n",
       "      <td>147.32.84.59</td>\n",
       "      <td>43087</td>\n",
       "    </tr>\n",
       "    <tr>\n",
       "      <th>2</th>\n",
       "      <td>2011-08-18</td>\n",
       "      <td>10:19:13.329</td>\n",
       "      <td>4.996</td>\n",
       "      <td>UDP</td>\n",
       "      <td>147.32.84.59:43087</td>\n",
       "      <td>-&gt;</td>\n",
       "      <td>82.39.2.249:41915</td>\n",
       "      <td>INT</td>\n",
       "      <td>0</td>\n",
       "      <td>1290</td>\n",
       "      <td>1909200</td>\n",
       "      <td>1</td>\n",
       "      <td>Background</td>\n",
       "      <td>NaN</td>\n",
       "      <td>82.39.2.249</td>\n",
       "      <td>41915</td>\n",
       "      <td>82.39.2.249</td>\n",
       "      <td>41915</td>\n",
       "    </tr>\n",
       "    <tr>\n",
       "      <th>3</th>\n",
       "      <td>2011-08-18</td>\n",
       "      <td>10:19:13.330</td>\n",
       "      <td>0.000</td>\n",
       "      <td>TCP</td>\n",
       "      <td>147.32.86.166:42020</td>\n",
       "      <td>-&gt;</td>\n",
       "      <td>147.32.192.34:993</td>\n",
       "      <td>A_</td>\n",
       "      <td>0</td>\n",
       "      <td>1</td>\n",
       "      <td>66</td>\n",
       "      <td>1</td>\n",
       "      <td>Background</td>\n",
       "      <td>NaN</td>\n",
       "      <td>147.32.192.34</td>\n",
       "      <td>993</td>\n",
       "      <td>147.32.192.34</td>\n",
       "      <td>993</td>\n",
       "    </tr>\n",
       "    <tr>\n",
       "      <th>4</th>\n",
       "      <td>2011-08-18</td>\n",
       "      <td>10:19:13.330</td>\n",
       "      <td>0.000</td>\n",
       "      <td>TCP</td>\n",
       "      <td>212.24.150.110:25443</td>\n",
       "      <td>-&gt;</td>\n",
       "      <td>147.32.86.166:33426</td>\n",
       "      <td>FPA_</td>\n",
       "      <td>0</td>\n",
       "      <td>2</td>\n",
       "      <td>169</td>\n",
       "      <td>1</td>\n",
       "      <td>Background</td>\n",
       "      <td>NaN</td>\n",
       "      <td>147.32.86.166</td>\n",
       "      <td>33426</td>\n",
       "      <td>147.32.86.166</td>\n",
       "      <td>33426</td>\n",
       "    </tr>\n",
       "  </tbody>\n",
       "</table>\n",
       "</div>"
      ],
      "text/plain": [
       "         Date    Flow_start  Durat Prot        SrcIPAddr:Port tmp  \\\n",
       "0  2011-08-18  10:19:13.328  0.002  TCP   147.32.86.166:33426  ->   \n",
       "1  2011-08-18  10:19:13.328  4.995  UDP     82.39.2.249:41915  ->   \n",
       "2  2011-08-18  10:19:13.329  4.996  UDP    147.32.84.59:43087  ->   \n",
       "3  2011-08-18  10:19:13.330  0.000  TCP   147.32.86.166:42020  ->   \n",
       "4  2011-08-18  10:19:13.330  0.000  TCP  212.24.150.110:25443  ->   \n",
       "\n",
       "         DstIPAddr:Port  Flags  Tos  Packets    Bytes  Flows       Label  \\\n",
       "0  212.24.150.110:25443  FRPA_    0        4      321      1  Background   \n",
       "1    147.32.84.59:43087    INT    0      617    40095      1  Background   \n",
       "2     82.39.2.249:41915    INT    0     1290  1909200      1  Background   \n",
       "3     147.32.192.34:993     A_    0        1       66      1  Background   \n",
       "4   147.32.86.166:33426   FPA_    0        2      169      1  Background   \n",
       "\n",
       "   Labels       SrcIPAddr SrcIPPort       DstIPAddr DstIPPort  \n",
       "0     NaN  212.24.150.110     25443  212.24.150.110     25443  \n",
       "1     NaN    147.32.84.59     43087    147.32.84.59     43087  \n",
       "2     NaN     82.39.2.249     41915     82.39.2.249     41915  \n",
       "3     NaN   147.32.192.34       993   147.32.192.34       993  \n",
       "4     NaN   147.32.86.166     33426   147.32.86.166     33426  "
      ]
     },
     "execution_count": 28,
     "metadata": {},
     "output_type": "execute_result"
    }
   ],
   "source": [
    "tp = pd.read_csv('capture20110818.pcap.netflow.labeled.csv', chunksize=1000)\n",
    "df = pd.concat(tp, ignore_index=True)\n",
    "ips = df['SrcIPAddr:Port'].str.split(':')\n",
    "\n",
    "\n",
    "df['SrcIPAddr'] = ips.str[0]\n",
    "df['SrcIPPort'] = ips.str[-1]\n",
    "ips = df['DstIPAddr:Port'].str.split(':')\n",
    "df['DstIPAddr'] = ips.str[0]\n",
    "df['DstIPPort'] = ips.str[-1]\n",
    "df.head()\n",
    "# print(ips)\n",
    "# df['SrcIPAddr'] = (ips.str[0:-1])\n",
    "# df['SrcIPPort'] = ips.str[-1]\n",
    "# ips = df['DstIPAddr:Port'].str.split(':')\n",
    "# df['DstIPAddr'] = ':'.join(ips[0:-1])\n",
    "# df['DstIPPort'] = ips.str[-1]\n",
    "# df.head()"
   ]
  },
  {
   "cell_type": "code",
   "execution_count": 26,
   "metadata": {},
   "outputs": [],
   "source": [
    "def find_next_prime(n):\n",
    "    return find_prime_in_range(n, 2*n)\n",
    "\n",
    "def find_prime_in_range(a, b):\n",
    "    for p in range(a, b):\n",
    "        for i in range(2, p):\n",
    "            if p % i == 0:\n",
    "                break\n",
    "        else:\n",
    "            return p\n",
    "    return None"
   ]
  },
  {
   "cell_type": "code",
   "execution_count": 32,
   "metadata": {},
   "outputs": [
    {
     "name": "stdout",
     "output_type": "stream",
     "text": [
      "2000 7\n"
     ]
    }
   ],
   "source": [
    "w = int(np.ceil(2/0.001)) #amount of 'counters' within a hash function\n",
    "d = int(np.ceil(-np.log(1-0.99)/np.log(2))) #amount of hash functions\n",
    "print(w, d)"
   ]
  },
  {
   "cell_type": "code",
   "execution_count": 33,
   "metadata": {},
   "outputs": [
    {
     "name": "stdout",
     "output_type": "stream",
     "text": [
      "[308038. 206018. 385007. 190052.  57502.   3821. 302117.] [  3694. 209163. 381560. 275987. 163516. 129905. 307841.]\n"
     ]
    }
   ],
   "source": [
    "c = len(df)#find_next_prime(len(df))\n",
    "#generating d hash functions of format: h(x) = (ax+b)%c\n",
    "a = np.zeros(d)\n",
    "b = np.zeros(d)\n",
    "for i in range(d):\n",
    "    a[i] = np.random.randint(low=1, high=len(df))\n",
    "    b[i] = np.random.randint(low=1, high=len(df))\n",
    "    \n",
    "print(a, b)"
   ]
  },
  {
   "cell_type": "code",
   "execution_count": 34,
   "metadata": {},
   "outputs": [],
   "source": [
    "def ip2long(ip):\n",
    "    \"\"\"\n",
    "    Convert an IP string to long\n",
    "    \"\"\"\n",
    "    try:\n",
    "        packedIP = socket.inet_aton(ip)\n",
    "    except OSError:\n",
    "        print(ip)\n",
    "    return struct.unpack(\"!L\", packedIP)[0]"
   ]
  },
  {
   "cell_type": "code",
   "execution_count": 41,
   "metadata": {},
   "outputs": [],
   "source": [
    "ip = netaddr.IPAddress('192.168.1.1')"
   ]
  },
  {
   "cell_type": "code",
   "execution_count": 42,
   "metadata": {},
   "outputs": [
    {
     "ename": "AddrFormatError",
     "evalue": "failed to detect a valid IP address from 'fe80'",
     "output_type": "error",
     "traceback": [
      "\u001b[1;31m---------------------------------------------------------------------------\u001b[0m",
      "\u001b[1;31mAddrFormatError\u001b[0m                           Traceback (most recent call last)",
      "\u001b[1;32m<ipython-input-42-4f076e185abf>\u001b[0m in \u001b[0;36m<module>\u001b[1;34m()\u001b[0m\n\u001b[1;32m----> 1\u001b[1;33m \u001b[0mdf\u001b[0m\u001b[1;33m[\u001b[0m\u001b[1;34m'ip_long'\u001b[0m\u001b[1;33m]\u001b[0m \u001b[1;33m=\u001b[0m \u001b[0mdf\u001b[0m\u001b[1;33m[\u001b[0m\u001b[1;34m'SrcIPAddr'\u001b[0m\u001b[1;33m]\u001b[0m\u001b[1;33m.\u001b[0m\u001b[0mapply\u001b[0m\u001b[1;33m(\u001b[0m\u001b[1;32mlambda\u001b[0m \u001b[0mx\u001b[0m\u001b[1;33m:\u001b[0m \u001b[0mnetaddr\u001b[0m\u001b[1;33m.\u001b[0m\u001b[0mIPAddress\u001b[0m\u001b[1;33m(\u001b[0m\u001b[0mx\u001b[0m\u001b[1;33m)\u001b[0m\u001b[1;33m.\u001b[0m\u001b[0mvalue\u001b[0m\u001b[1;33m)\u001b[0m\u001b[1;33m\u001b[0m\u001b[0m\n\u001b[0m\u001b[0;32m      2\u001b[0m \u001b[1;31m# >>> ip.value)\u001b[0m\u001b[1;33m\u001b[0m\u001b[1;33m\u001b[0m\u001b[0m\n",
      "\u001b[1;32m~\\AppData\\Local\\Programs\\Python\\Python36-32\\lib\\site-packages\\pandas\\core\\series.py\u001b[0m in \u001b[0;36mapply\u001b[1;34m(self, func, convert_dtype, args, **kwds)\u001b[0m\n\u001b[0;32m   2549\u001b[0m             \u001b[1;32melse\u001b[0m\u001b[1;33m:\u001b[0m\u001b[1;33m\u001b[0m\u001b[0m\n\u001b[0;32m   2550\u001b[0m                 \u001b[0mvalues\u001b[0m \u001b[1;33m=\u001b[0m \u001b[0mself\u001b[0m\u001b[1;33m.\u001b[0m\u001b[0masobject\u001b[0m\u001b[1;33m\u001b[0m\u001b[0m\n\u001b[1;32m-> 2551\u001b[1;33m                 \u001b[0mmapped\u001b[0m \u001b[1;33m=\u001b[0m \u001b[0mlib\u001b[0m\u001b[1;33m.\u001b[0m\u001b[0mmap_infer\u001b[0m\u001b[1;33m(\u001b[0m\u001b[0mvalues\u001b[0m\u001b[1;33m,\u001b[0m \u001b[0mf\u001b[0m\u001b[1;33m,\u001b[0m \u001b[0mconvert\u001b[0m\u001b[1;33m=\u001b[0m\u001b[0mconvert_dtype\u001b[0m\u001b[1;33m)\u001b[0m\u001b[1;33m\u001b[0m\u001b[0m\n\u001b[0m\u001b[0;32m   2552\u001b[0m \u001b[1;33m\u001b[0m\u001b[0m\n\u001b[0;32m   2553\u001b[0m         \u001b[1;32mif\u001b[0m \u001b[0mlen\u001b[0m\u001b[1;33m(\u001b[0m\u001b[0mmapped\u001b[0m\u001b[1;33m)\u001b[0m \u001b[1;32mand\u001b[0m \u001b[0misinstance\u001b[0m\u001b[1;33m(\u001b[0m\u001b[0mmapped\u001b[0m\u001b[1;33m[\u001b[0m\u001b[1;36m0\u001b[0m\u001b[1;33m]\u001b[0m\u001b[1;33m,\u001b[0m \u001b[0mSeries\u001b[0m\u001b[1;33m)\u001b[0m\u001b[1;33m:\u001b[0m\u001b[1;33m\u001b[0m\u001b[0m\n",
      "\u001b[1;32mpandas/_libs/src\\inference.pyx\u001b[0m in \u001b[0;36mpandas._libs.lib.map_infer\u001b[1;34m()\u001b[0m\n",
      "\u001b[1;32m<ipython-input-42-4f076e185abf>\u001b[0m in \u001b[0;36m<lambda>\u001b[1;34m(x)\u001b[0m\n\u001b[1;32m----> 1\u001b[1;33m \u001b[0mdf\u001b[0m\u001b[1;33m[\u001b[0m\u001b[1;34m'ip_long'\u001b[0m\u001b[1;33m]\u001b[0m \u001b[1;33m=\u001b[0m \u001b[0mdf\u001b[0m\u001b[1;33m[\u001b[0m\u001b[1;34m'SrcIPAddr'\u001b[0m\u001b[1;33m]\u001b[0m\u001b[1;33m.\u001b[0m\u001b[0mapply\u001b[0m\u001b[1;33m(\u001b[0m\u001b[1;32mlambda\u001b[0m \u001b[0mx\u001b[0m\u001b[1;33m:\u001b[0m \u001b[0mnetaddr\u001b[0m\u001b[1;33m.\u001b[0m\u001b[0mIPAddress\u001b[0m\u001b[1;33m(\u001b[0m\u001b[0mx\u001b[0m\u001b[1;33m)\u001b[0m\u001b[1;33m.\u001b[0m\u001b[0mvalue\u001b[0m\u001b[1;33m)\u001b[0m\u001b[1;33m\u001b[0m\u001b[0m\n\u001b[0m\u001b[0;32m      2\u001b[0m \u001b[1;31m# >>> ip.value)\u001b[0m\u001b[1;33m\u001b[0m\u001b[1;33m\u001b[0m\u001b[0m\n",
      "\u001b[1;32m~\\AppData\\Local\\Programs\\Python\\Python36-32\\lib\\site-packages\\netaddr\\ip\\__init__.py\u001b[0m in \u001b[0;36m__init__\u001b[1;34m(self, addr, version, flags)\u001b[0m\n\u001b[0;32m    304\u001b[0m                 \u001b[1;32mif\u001b[0m \u001b[0mself\u001b[0m\u001b[1;33m.\u001b[0m\u001b[0m_module\u001b[0m \u001b[1;32mis\u001b[0m \u001b[1;32mNone\u001b[0m\u001b[1;33m:\u001b[0m\u001b[1;33m\u001b[0m\u001b[0m\n\u001b[0;32m    305\u001b[0m                     raise AddrFormatError('failed to detect a valid IP ' \\\n\u001b[1;32m--> 306\u001b[1;33m                         'address from %r' % addr)\n\u001b[0m\u001b[0;32m    307\u001b[0m             \u001b[1;32melse\u001b[0m\u001b[1;33m:\u001b[0m\u001b[1;33m\u001b[0m\u001b[0m\n\u001b[0;32m    308\u001b[0m                 \u001b[1;31m#   IP version is explicit.\u001b[0m\u001b[1;33m\u001b[0m\u001b[1;33m\u001b[0m\u001b[0m\n",
      "\u001b[1;31mAddrFormatError\u001b[0m: failed to detect a valid IP address from 'fe80'"
     ]
    }
   ],
   "source": [
    "df['ip_long'] = df['SrcIPAddr'].apply(lambda x: netaddr.IPAddress(x).value)\n",
    "# >>> ip.value)"
   ]
  },
  {
   "cell_type": "markdown",
   "metadata": {},
   "source": [
    "xxhash "
   ]
  },
  {
   "cell_type": "code",
   "execution_count": null,
   "metadata": {},
   "outputs": [],
   "source": []
  }
 ],
 "metadata": {
  "kernelspec": {
   "display_name": "Python 3",
   "language": "python",
   "name": "python3"
  },
  "language_info": {
   "codemirror_mode": {
    "name": "ipython",
    "version": 3
   },
   "file_extension": ".py",
   "mimetype": "text/x-python",
   "name": "python",
   "nbconvert_exporter": "python",
   "pygments_lexer": "ipython3",
   "version": "3.6.4"
  }
 },
 "nbformat": 4,
 "nbformat_minor": 2
}
