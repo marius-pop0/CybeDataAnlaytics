{
 "cells": [
  {
   "cell_type": "code",
   "execution_count": 6,
   "metadata": {},
   "outputs": [],
   "source": [
    "import pandas as pd\n",
    "import matplotlib.pyplot as plt\n",
    "import scipy.stats as scs\n",
    "import numpy as np\n",
    "from sax import SAX"
   ]
  },
  {
   "cell_type": "code",
   "execution_count": 2,
   "metadata": {},
   "outputs": [],
   "source": [
    "train1_df = pd.read_csv('BATADAL_dataset03.csv', index_col='DATETIME')\n",
    "# train2_df = pd.read_csv('BATADAL_dataset04.csv', index_col=0)\n",
    "# test_df = pd.read_csv('BATADAL_test_dataset.csv', index_col=0)\n",
    "train1_df.index = pd.to_datetime(train1_df.index,dayfirst=True)"
   ]
  },
  {
   "cell_type": "code",
   "execution_count": 9,
   "metadata": {},
   "outputs": [
    {
     "name": "stdout",
     "output_type": "stream",
     "text": [
      "3\n",
      "move2\n",
      "3\n",
      "move2\n",
      "3\n",
      "move2\n",
      "3\n",
      "move2\n",
      "3\n",
      "move2\n",
      "3\n",
      "move2\n",
      "3\n",
      "move2\n",
      "3\n",
      "move2\n",
      "3\n",
      "move2\n",
      "3\n",
      "move2\n",
      "3\n",
      "move2\n",
      "3\n",
      "move2\n",
      "3\n",
      "move2\n",
      "3\n",
      "move2\n",
      "3\n",
      "move2\n",
      "3\n",
      "move2\n",
      "3\n",
      "move2\n",
      "3\n",
      "move2\n",
      "3\n",
      "move2\n",
      "3\n",
      "move2\n",
      "3\n",
      "move2\n",
      "3\n",
      "move2\n",
      "3\n",
      "move2\n",
      "3\n",
      "move2\n",
      "3\n",
      "move2\n",
      "3\n",
      "move2\n",
      "3\n",
      "move2\n",
      "3\n",
      "move2\n",
      "3\n",
      "move2\n",
      "3\n",
      "move2\n",
      "3\n",
      "move2\n",
      "3\n",
      "move2\n",
      "3\n",
      "move2\n",
      "3\n",
      "move2\n",
      "3\n",
      "move2\n",
      "3\n",
      "move2\n",
      "3\n",
      "move2\n",
      "3\n",
      "move2\n",
      "3\n",
      "move2\n",
      "3\n",
      "move2\n",
      "3\n",
      "move2\n",
      "3\n",
      "move2\n",
      "3\n",
      "move2\n",
      "3\n",
      "move2\n"
     ]
    }
   ],
   "source": [
    "window_size = 3\n",
    "stride = 2\n",
    "sax = SAX()\n",
    "\n",
    "for column_name in train1_df:\n",
    "    train_string_rep, train_window_indices = sax.sliding_window(train1_df[column_name], cover=window_size, stride=stride)"
   ]
  },
  {
   "cell_type": "code",
   "execution_count": null,
   "metadata": {},
   "outputs": [],
   "source": []
  }
 ],
 "metadata": {
  "kernelspec": {
   "display_name": "Python 3",
   "language": "python",
   "name": "python3"
  },
  "language_info": {
   "codemirror_mode": {
    "name": "ipython",
    "version": 3
   },
   "file_extension": ".py",
   "mimetype": "text/x-python",
   "name": "python",
   "nbconvert_exporter": "python",
   "pygments_lexer": "ipython3",
   "version": "3.6.5"
  }
 },
 "nbformat": 4,
 "nbformat_minor": 2
}
