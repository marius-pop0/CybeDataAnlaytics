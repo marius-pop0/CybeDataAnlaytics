{
 "cells": [
  {
   "cell_type": "code",
   "execution_count": 3,
   "metadata": {},
   "outputs": [],
   "source": [
    "import pandas as pd\n",
    "import matplotlib.pyplot as plt\n",
    "import numpy as np\n",
    "from sklearn.preprocessing import StandardScaler\n",
    "from matplotlib.pyplot import scatter\n",
    "from operator import itemgetter\n",
    "from sklearn.decomposition import PCA"
   ]
  },
  {
   "cell_type": "code",
   "execution_count": 4,
   "metadata": {},
   "outputs": [],
   "source": [
    "train1_df = pd.read_csv('BATADAL_dataset03.csv', index_col=0)\n",
    "train2_df = pd.read_csv('BATADAL_dataset04.csv', index_col=0)\n",
    "test_df = pd.read_csv('BATADAL_test_dataset.csv', index_col=0)"
   ]
  },
  {
   "cell_type": "code",
   "execution_count": 10,
   "metadata": {},
   "outputs": [
    {
     "name": "stdout",
     "output_type": "stream",
     "text": [
      "(8761, 43)\n",
      "(4177, 43)\n"
     ]
    }
   ],
   "source": [
    "# train2_df = train2_df['values'].apply(lambda x: x.str.strip() if x.dtype == \"object\" else x)\n",
    "train2_df = train2_df.rename(columns=lambda x: x.strip())\n",
    "train2_df.index = pd.to_datetime(train2_df.index, dayfirst=True)\n",
    "\n",
    "counter = 0\n",
    "found_c = 0\n",
    "bit = 0\n",
    "counter_list = []\n",
    "for rindex, row in train2_df.iterrows():\n",
    "    if row['ATT_FLAG'] == 1:\n",
    "        if bit == 0:\n",
    "            counter = 0\n",
    "            bit = 1\n",
    "            found_c+=1\n",
    "        counter+=1\n",
    "    else:\n",
    "        if bit == 1:\n",
    "            for c in range(counter):\n",
    "                counter_list.append((c+1)/counter)\n",
    "            bit = 0 \n",
    "        counter_list.append(0)\n",
    "        \n",
    "train2_df['TDD'] = counter_list\n",
    "\n",
    "# print(train2_df.head())\n",
    "# print(train2_df[train2_df['ATT_FLAG'] == 1])\n",
    "        \n",
    "\n",
    "X_train1 = train1_df.drop(['ATT_FLAG'], axis=1).values\n",
    "y_train1 = train1_df['ATT_FLAG'].values\n",
    "X_train2 = train2_df.drop(['ATT_FLAG', 'TDD'], axis=1).values\n",
    "y_train2 = train2_df['ATT_FLAG'].values\n",
    "# anom_df = train2_df[train2_df['ATT_FLAG']==1]\n",
    "# X_train_anom = anom_df.drop(['ATT_FLAG'], axis=1).values\n",
    "print(np.shape(X_train1))\n",
    "print(np.shape(X_train2))\n",
    "# print(np.shape(X_train_anom))\n"
   ]
  },
  {
   "cell_type": "code",
   "execution_count": 137,
   "metadata": {},
   "outputs": [],
   "source": [
    "def plot_dataset(X, y):\n",
    "    _X = np.sum(X, axis=1)\n",
    "    df = pd.DataFrame(dict(y=_X, x=range(len(y)), label=y))\n",
    "    colors = {1: 'red', -999: 'blue'}\n",
    "    fig, ax = plt.subplots()\n",
    "    grouped = df.groupby('label')\n",
    "    for key, group in grouped:\n",
    "        group.plot(ax=ax, kind='line', x='x', y='y', label=key, color=colors[key])\n",
    "    plt.axis('equal')\n",
    "    plt.show()"
   ]
  },
  {
   "cell_type": "code",
   "execution_count": 61,
   "metadata": {},
   "outputs": [
    {
     "name": "stdout",
     "output_type": "stream",
     "text": [
      "(8761, 43)\n",
      "(43, 43)\n",
      "(43, 43)\n"
     ]
    }
   ],
   "source": [
    "# X_train = np.concatenate((X_train1, X_train2), axis=0)\n",
    "#Standarizing the data\n",
    "scaler = StandardScaler()\n",
    "X_std = scaler.fit_transform(X_train1)\n",
    "X_std2 = scaler.transform(X_train2)\n",
    "X_std3 = scaler.transform(X_train_anom)\n",
    "\n",
    "print(np.shape(X_std))\n",
    "# print(np.shape(X_std2))\n",
    "# print(np.shape(X_std3))\n",
    "\n",
    "# eigendecomposition on the covariance matrix:\n",
    "cov_mat = np.cov(X_std.T)\n",
    "cov_mat2 = np.cov(X_std2.T)\n",
    "cov_mat3 = np.cov(X_std3.T)\n",
    "\n",
    "print(np.shape(cov_mat))\n",
    "\n",
    "eig_vals, eig_vecs = np.linalg.eig(cov_mat)\n",
    "print(np.shape(eig_vecs))\n",
    "\n",
    "eig_vals2, eig_vecs2 = np.linalg.eig(cov_mat2)\n",
    "eig_vals3, eig_vecs3 = np.linalg.eig(cov_mat3)\n",
    "\n",
    "# print('Eigenvectors \\n%s' %eig_vecs)\n",
    "# print('\\nEigenvalues \\n%s' %eig_vals)\n"
   ]
  },
  {
   "cell_type": "code",
   "execution_count": 54,
   "metadata": {},
   "outputs": [
    {
     "name": "stdout",
     "output_type": "stream",
     "text": [
      "Everything ok!\n"
     ]
    }
   ],
   "source": [
    "for ev in eig_vecs:\n",
    "    np.testing.assert_array_almost_equal(1.0, np.linalg.norm(ev))\n",
    "print('Everything ok!')"
   ]
  },
  {
   "cell_type": "code",
   "execution_count": 55,
   "metadata": {},
   "outputs": [
    {
     "data": {
      "image/png": "[encoded data removed]",
      "text/plain": [
       "<Figure size 432x288 with 1 Axes>"
      ]
     },
     "metadata": {},
     "output_type": "display_data"
    }
   ],
   "source": [
    "eig_vals_sort = np.sort(eig_vals)[::-1]\n",
    "# print(eig_vals_sort)\n",
    "\n",
    "plt.plot(eig_vals_sort, '.')\n",
    "plt.show()"
   ]
  },
  {
   "cell_type": "code",
   "execution_count": 56,
   "metadata": {},
   "outputs": [
    {
     "data": {
      "image/png": "[encoded data removed]",
      "text/plain": [
       "<Figure size 432x288 with 1 Axes>"
      ]
     },
     "metadata": {},
     "output_type": "display_data"
    }
   ],
   "source": [
    "# eig_val_sort_ind = np.argsort(eig_vals)[::-1]\n",
    "\n",
    "tot = sum(eig_vals)\n",
    "var_exp = [(i / tot)*100 for i in sorted(eig_vals, reverse=True)]\n",
    "cum_var_exp = np.cumsum(var_exp)\n",
    "\n",
    "plt.plot(cum_var_exp, '.')\n",
    "plt.plot(cum_var_exp, '-')\n",
    "plt.grid()\n",
    "plt.show()"
   ]
  },
  {
   "cell_type": "code",
   "execution_count": 158,
   "metadata": {},
   "outputs": [
    {
     "name": "stdout",
     "output_type": "stream",
     "text": [
      "[ 21.49421751  34.87431564  47.67772915  57.65433906  64.86785424\n",
      "  71.628148    77.18121581  82.71916138  86.97186008  90.22026122\n",
      "  92.7864301   95.24447476  97.10833751  98.61679802  99.34827892\n",
      "  99.6392769   99.74860462  99.82737678  99.8937491   99.93440731\n",
      "  99.9597469   99.98035961  99.9870971   99.99242315  99.99523804\n",
      "  99.99675009  99.99759997  99.99842404  99.99897612  99.99951773\n",
      "  99.99982903  99.99999702  99.99999993 100.         100.\n",
      " 100.         100.         100.         100.         100.\n",
      " 100.         100.         100.        ]\n",
      "number of principle component: 14\n"
     ]
    }
   ],
   "source": [
    "print(cum_var_exp)\n",
    "ind = next(x[0] for x in enumerate(cum_var_exp) if x[1] > 99.0)\n",
    "print('number of principle component:', ind)"
   ]
  },
  {
   "cell_type": "code",
   "execution_count": 159,
   "metadata": {},
   "outputs": [
    {
     "name": "stdout",
     "output_type": "stream",
     "text": [
      "Eigenvalues in descending order:\n",
      "7.738801626430048\n",
      "4.817385194256525\n",
      "4.609755033159869\n",
      "3.5919895637648844\n",
      "2.597161909762069\n",
      "2.433983574615235\n",
      "1.9993326216547964\n",
      "1.9938879902389102\n",
      "1.5311463017596323\n",
      "1.1695579043426871\n",
      "0.9239262568053719\n",
      "0.8849970948216312\n",
      "0.6710671845219388\n",
      "0.5431077759521491\n",
      "0.26336318649213625\n",
      "0.10477123175400861\n",
      "0.03936246963205142\n",
      "0.028361215647843878\n",
      "0.023896761979948777\n",
      "0.014638629205447512\n",
      "0.009123292422997625\n",
      "0.007421421438165848\n",
      "0.0024257724691672702\n",
      "0.0019175982485342786\n",
      "0.0010134747686110575\n",
      "0.0005444031335546098\n",
      "0.0003059902809158761\n",
      "0.0002966992888568689\n",
      "0.0001987714593062115\n",
      "0.00019500032883054165\n",
      "0.0001120803976669187\n",
      "6.048508745018919e-05\n",
      "1.048260884306368e-06\n",
      "2.3544043722073607e-08\n",
      "8.648335363154048e-10\n",
      "2.5010208629567356e-10\n",
      "0.0\n",
      "0.0\n",
      "0.0\n",
      "0.0\n",
      "0.0\n",
      "0.0\n",
      "0.0\n",
      "(43, 14)\n"
     ]
    }
   ],
   "source": [
    "eig_pairs = [(np.abs(eig_vals[i]), eig_vecs[:,i]) for i in range(len(eig_vals))]\n",
    "eig_pairs2 = [(np.abs(eig_vals2[i]), eig_vecs2[:,i]) for i in range(len(eig_vals2))]\n",
    "eig_pairs3 = [(np.abs(eig_vals3[i]), eig_vecs3[:,i]) for i in range(len(eig_vals3))]\n",
    "\n",
    "# print(eig_pairs)\n",
    "eig_pairs = sorted(eig_pairs, key=itemgetter(0))\n",
    "eig_pairs.reverse()\n",
    "print('Eigenvalues in descending order:')\n",
    "for i in eig_pairs:\n",
    "    print(i[0])\n",
    "matrix_w = np.hstack([eig_pairs[i][1].reshape(43,1) for i in range(ind)])\n",
    "matrix_w2 = np.hstack([eig_pairs2[i][1].reshape(43,1) for i in range(ind)])\n",
    "matrix_w3 = np.hstack([eig_pairs3[i][1].reshape(43,1) for i in range(ind)])\n",
    "\n",
    "print(np.shape(matrix_w))\n",
    "# matrix_w"
   ]
  },
  {
   "cell_type": "code",
   "execution_count": 160,
   "metadata": {},
   "outputs": [
    {
     "name": "stdout",
     "output_type": "stream",
     "text": [
      "(8761, 14)\n",
      "(8761, 43)\n",
      "(8761, 43)\n"
     ]
    }
   ],
   "source": [
    "Y = X_std.dot(matrix_w)\n",
    "Y2 = X_std2.dot(matrix_w2)\n",
    "Y3 = X_std3.dot(matrix_w3)\n",
    "print(np.shape(Y))\n",
    "\n",
    "TP = np.matmul(Y, matrix_w.T)\n",
    "print(np.shape(TP))\n",
    "\n",
    "residual_pca1 = X_std - TP\n",
    "residual_pca = np.sqrt(np.square(residual_pca1))\n",
    "print(np.shape(residual_pca))"
   ]
  },
  {
   "cell_type": "code",
   "execution_count": 14,
   "metadata": {},
   "outputs": [
    {
     "name": "stdout",
     "output_type": "stream",
     "text": [
      "(8761, 43)\n",
      "(8761,)\n"
     ]
    }
   ],
   "source": [
    "pca = PCA(n_components=15)\n",
    "pca.fit(X_train1)\n",
    "scores = pca.transform(X_train1)\n",
    "reconstruct = pca.inverse_transform(scores )\n",
    "residual_pca1=X_train1-reconstruct\n",
    "residual_pca1 = np.sqrt(np.square(residual_pca1))\n",
    "print(np.shape(residual_pca1))\n",
    "residual_full = np.sum(residual_pca1, axis=1)\n",
    "print(np.shape(residual_full))\n"
   ]
  },
  {
   "cell_type": "code",
   "execution_count": 15,
   "metadata": {},
   "outputs": [
    {
     "name": "stdout",
     "output_type": "stream",
     "text": [
      "(4177, 43)\n",
      "(8761,)\n"
     ]
    },
    {
     "data": {
      "image/png": "[encoded data removed]",
      "text/plain": [
       "<Figure size 432x288 with 1 Axes>"
      ]
     },
     "metadata": {},
     "output_type": "display_data"
    },
    {
     "data": {
      "image/png": "[encoded data removed]",
      "text/plain": [
       "<Figure size 432x288 with 1 Axes>"
      ]
     },
     "metadata": {},
     "output_type": "display_data"
    }
   ],
   "source": [
    "scores2 = pca.transform(X_train2)\n",
    "# Reconstruct from the 2 dimensional scores \n",
    "reconstruct2 = pca.inverse_transform(scores2)\n",
    "\n",
    "residual_pca2=X_train2-reconstruct2\n",
    "residual_pca2 = np.sqrt(np.square(residual_pca2))\n",
    "print(np.shape(residual_pca2))\n",
    "residual_full2 = np.sum(residual_pca2, axis=1)\n",
    "print(np.shape(residual_full))\n",
    "\n",
    "\n",
    "plt.plot(residual_full, label='train')\n",
    "plt.title('Full residual')\n",
    "plt.show()\n",
    "\n",
    "plt.plot(residual_full2, label='val')\n",
    "plt.plot([0,len(residual_full2)],[7,7],'r')\n",
    "plt.title('Full residual')\n",
    "plt.show()"
   ]
  },
  {
   "cell_type": "code",
   "execution_count": 16,
   "metadata": {
    "scrolled": true
   },
   "outputs": [
    {
     "data": {
      "image/png": "[encoded data removed]",
      "text/plain": [
       "<Figure size 432x288 with 1 Axes>"
      ]
     },
     "metadata": {},
     "output_type": "display_data"
    }
   ],
   "source": [
    "# plot_dataset(X_train2, y_train2)\n",
    "train2_df['ATT_FLAG_anom'] = np.where(train2_df['ATT_FLAG'] == 1, 100, 0)\n",
    "ax = train2_df['ATT_FLAG_anom'].plot(grid=True, label=True, color='r')\n",
    "train2_df['pca_anom'] = residual_full2\n",
    "ax2 = train2_df['pca_anom'].plot(grid=True, label=True)\n",
    "plt.show()"
   ]
  },
  {
   "cell_type": "code",
   "execution_count": 65,
   "metadata": {},
   "outputs": [],
   "source": [
    "def batadal_metric(train2_df, y_pred):\n",
    "    counter = 0\n",
    "    found_c = 0\n",
    "    bit = 0\n",
    "    counter_list = []\n",
    "    for rindex, row in train2_df.iterrows():\n",
    "        if row['ATT_FLAG'] == 1:\n",
    "            if bit == 0:\n",
    "                counter = 0\n",
    "                bit = 1\n",
    "                found_c+=1\n",
    "            counter+=1\n",
    "        else:\n",
    "            if bit == 1:\n",
    "                for c in range(counter):\n",
    "                    counter_list.append((c+1)/counter)\n",
    "                bit = 0 \n",
    "            counter_list.append(0)\n",
    "\n",
    "    train2_df['TDD'] = counter_list\n",
    "    train2_df['y_pred'] = y_pred\n",
    "    \n",
    "    counter = 0\n",
    "    found_c = 0\n",
    "    \n",
    "    arr = train2_df[['ATT_FLAG', 'TDD']].values\n",
    "    for i in range(len(arr)):#rindex, row in train2_df.iterrows():\n",
    "        if arr[i][0] == 1:\n",
    "            if y_pred[i] == 1 and bit == 0:\n",
    "                print(arr[i][1])\n",
    "                counter += arr[i][1]\n",
    "                bit = 1\n",
    "                found_c+=1\n",
    "        else:\n",
    "            bit = 0 \n",
    "#     print('A')\n",
    "    print(counter, found_c)\n",
    "    S_TDD = 1 - counter/found_c\n",
    "    return S_TDD\n"
   ]
  },
  {
   "cell_type": "code",
   "execution_count": 66,
   "metadata": {},
   "outputs": [
    {
     "name": "stdout",
     "output_type": "stream",
     "text": [
      "189\n",
      "98 90 3868\n",
      "accuracy: 0.9494852765142446, precision: 0.5212765957446809\n",
      "0.024390243902439025\n",
      "0.8\n",
      "0.02702702702702703\n",
      "0.2857142857142857\n",
      "0.0136986301369863\n",
      "A\n",
      "1.150830186780738 5\n",
      "batadal: 0.7698339626438524\n"
     ]
    }
   ],
   "source": [
    "ind = np.argwhere(residual_full2 > 10).reshape(-1)\n",
    "y_pred = np.where(residual_full2 > 10, 1, 0)\n",
    "# print(np.count_nonzero(y_pred == 1))\n",
    "P_am = np.where(y_train2 == 1)\n",
    "F_am = np.where(y_train2 == -999)\n",
    "\n",
    "# print(np.shape(F_am))\n",
    "print(len(ind))\n",
    "\n",
    "mask_TP = np.isin(ind, P_am)\n",
    "mask_FP = np.isin(ind, F_am)\n",
    "\n",
    "TP = len(ind[mask_TP])\n",
    "FP = len(ind[mask_FP])\n",
    "TN = np.shape(F_am)[1] - FP\n",
    "\n",
    "print(TP, FP, TN)\n",
    "\n",
    "accuracy = (TP+TN)/len(y_train2)\n",
    "precision = TP/(TP+FP)\n",
    "print('accuracy: {}, precision: {}'.format(accuracy, precision))\n",
    "print('batadal: {}'.format(batadal_metric(train2_df, y_pred)))\n"
   ]
  },
  {
   "cell_type": "code",
   "execution_count": null,
   "metadata": {},
   "outputs": [],
   "source": []
  }
 ],
 "metadata": {
  "kernelspec": {
   "display_name": "Python 3",
   "language": "python",
   "name": "python3"
  },
  "language_info": {
   "codemirror_mode": {
    "name": "ipython",
    "version": 3
   },
   "file_extension": ".py",
   "mimetype": "text/x-python",
   "name": "python",
   "nbconvert_exporter": "python",
   "pygments_lexer": "ipython3",
   "version": "3.6.4"
  }
 },
 "nbformat": 4,
 "nbformat_minor": 2
}
